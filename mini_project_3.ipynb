{
 "cells": [
  {
   "cell_type": "code",
   "execution_count": 117,
   "metadata": {},
   "outputs": [],
   "source": [
    "import pandas as pd\n",
    "import plotly.express as px\n",
    "from sklearn.decomposition import PCA\n",
    "import re\n",
    "from sklearn import preprocessing\n",
    "import numpy as np\n",
    "from sklearn.preprocessing import StandardScaler\n",
    "from sklearn.decomposition import PCA\n",
    "from sklearn.cluster import KMeans\n",
    "import matplotlib.pyplot as plt"
   ]
  },
  {
   "cell_type": "code",
   "execution_count": 100,
   "metadata": {},
   "outputs": [],
   "source": [
    "cust_data = pd.read_csv('twm_customer.csv', sep=';')\n",
    "check_data = pd.read_csv('twm_checking_acct.csv', sep=';')\n",
    "saving_data = pd.read_csv('twm_savings_acct.csv', sep=';')\n",
    "credit_data = pd.read_csv('twm_credit_acct.csv', sep=';')\n",
    "trans_data = pd.read_csv('twm_transactions.csv', sep=';')\n",
    "acc_data = pd.read_csv('twm_accounts.csv', sep=';')\n",
    "checktrans_data = pd.read_csv('twm_checking_tran.csv', sep=';')"
   ]
  },
  {
   "cell_type": "code",
   "execution_count": 101,
   "metadata": {},
   "outputs": [
    {
     "data": {
      "text/html": [
       "<div>\n",
       "<style scoped>\n",
       "    .dataframe tbody tr th:only-of-type {\n",
       "        vertical-align: middle;\n",
       "    }\n",
       "\n",
       "    .dataframe tbody tr th {\n",
       "        vertical-align: top;\n",
       "    }\n",
       "\n",
       "    .dataframe thead th {\n",
       "        text-align: right;\n",
       "    }\n",
       "</style>\n",
       "<table border=\"1\" class=\"dataframe\">\n",
       "  <thead>\n",
       "    <tr style=\"text-align: right;\">\n",
       "      <th></th>\n",
       "      <th>cust_id</th>\n",
       "      <th>income</th>\n",
       "      <th>age</th>\n",
       "      <th>years_with_bank</th>\n",
       "      <th>nbr_children</th>\n",
       "      <th>gender</th>\n",
       "      <th>marital_status</th>\n",
       "      <th>name_prefix</th>\n",
       "      <th>first_name</th>\n",
       "      <th>last_name</th>\n",
       "      <th>street_nbr</th>\n",
       "      <th>street_name</th>\n",
       "      <th>postal_code</th>\n",
       "      <th>city_name</th>\n",
       "      <th>state_code</th>\n",
       "    </tr>\n",
       "  </thead>\n",
       "  <tbody>\n",
       "    <tr>\n",
       "      <th>0</th>\n",
       "      <td>1362691</td>\n",
       "      <td>26150</td>\n",
       "      <td>46</td>\n",
       "      <td>5</td>\n",
       "      <td>1</td>\n",
       "      <td>M</td>\n",
       "      <td>2</td>\n",
       "      <td></td>\n",
       "      <td>Donald                                        ...</td>\n",
       "      <td>Marek                                         ...</td>\n",
       "      <td>8298</td>\n",
       "      <td>Second                                        ...</td>\n",
       "      <td>89194</td>\n",
       "      <td>Las Vegas</td>\n",
       "      <td>NV</td>\n",
       "    </tr>\n",
       "    <tr>\n",
       "      <th>1</th>\n",
       "      <td>1362487</td>\n",
       "      <td>6605</td>\n",
       "      <td>71</td>\n",
       "      <td>1</td>\n",
       "      <td>0</td>\n",
       "      <td>M</td>\n",
       "      <td>2</td>\n",
       "      <td></td>\n",
       "      <td>ChingDyi                                      ...</td>\n",
       "      <td>Moussavi                                      ...</td>\n",
       "      <td>10603</td>\n",
       "      <td>Daffodil                                      ...</td>\n",
       "      <td>90159</td>\n",
       "      <td>Los Angeles</td>\n",
       "      <td>CA</td>\n",
       "    </tr>\n",
       "    <tr>\n",
       "      <th>2</th>\n",
       "      <td>1363160</td>\n",
       "      <td>18548</td>\n",
       "      <td>38</td>\n",
       "      <td>8</td>\n",
       "      <td>0</td>\n",
       "      <td>F</td>\n",
       "      <td>1</td>\n",
       "      <td></td>\n",
       "      <td>Rosa                                          ...</td>\n",
       "      <td>Johnston                                      ...</td>\n",
       "      <td>8817</td>\n",
       "      <td>Figueroa                                      ...</td>\n",
       "      <td>90024</td>\n",
       "      <td>Los Angeles</td>\n",
       "      <td>CA</td>\n",
       "    </tr>\n",
       "    <tr>\n",
       "      <th>3</th>\n",
       "      <td>1362752</td>\n",
       "      <td>47668</td>\n",
       "      <td>54</td>\n",
       "      <td>3</td>\n",
       "      <td>0</td>\n",
       "      <td>F</td>\n",
       "      <td>1</td>\n",
       "      <td></td>\n",
       "      <td>Lisa                                          ...</td>\n",
       "      <td>Martin                                        ...</td>\n",
       "      <td>676</td>\n",
       "      <td>Humble                                        ...</td>\n",
       "      <td>90172</td>\n",
       "      <td>Los Angeles</td>\n",
       "      <td>CA</td>\n",
       "    </tr>\n",
       "    <tr>\n",
       "      <th>4</th>\n",
       "      <td>1362548</td>\n",
       "      <td>44554</td>\n",
       "      <td>59</td>\n",
       "      <td>9</td>\n",
       "      <td>2</td>\n",
       "      <td>F</td>\n",
       "      <td>4</td>\n",
       "      <td></td>\n",
       "      <td>Barbara                                       ...</td>\n",
       "      <td>O'Malley                                      ...</td>\n",
       "      <td>6578</td>\n",
       "      <td>C                                             ...</td>\n",
       "      <td>10138</td>\n",
       "      <td>New York City</td>\n",
       "      <td>NY</td>\n",
       "    </tr>\n",
       "    <tr>\n",
       "      <th>...</th>\n",
       "      <td>...</td>\n",
       "      <td>...</td>\n",
       "      <td>...</td>\n",
       "      <td>...</td>\n",
       "      <td>...</td>\n",
       "      <td>...</td>\n",
       "      <td>...</td>\n",
       "      <td>...</td>\n",
       "      <td>...</td>\n",
       "      <td>...</td>\n",
       "      <td>...</td>\n",
       "      <td>...</td>\n",
       "      <td>...</td>\n",
       "      <td>...</td>\n",
       "      <td>...</td>\n",
       "    </tr>\n",
       "    <tr>\n",
       "      <th>742</th>\n",
       "      <td>1363324</td>\n",
       "      <td>14795</td>\n",
       "      <td>36</td>\n",
       "      <td>6</td>\n",
       "      <td>1</td>\n",
       "      <td>F</td>\n",
       "      <td>4</td>\n",
       "      <td></td>\n",
       "      <td>Lillian                                       ...</td>\n",
       "      <td>Kaufman                                       ...</td>\n",
       "      <td>9677</td>\n",
       "      <td>B                                             ...</td>\n",
       "      <td>90016</td>\n",
       "      <td>Los Angeles</td>\n",
       "      <td>CA</td>\n",
       "    </tr>\n",
       "    <tr>\n",
       "      <th>743</th>\n",
       "      <td>1362895</td>\n",
       "      <td>26387</td>\n",
       "      <td>56</td>\n",
       "      <td>6</td>\n",
       "      <td>1</td>\n",
       "      <td>M</td>\n",
       "      <td>2</td>\n",
       "      <td></td>\n",
       "      <td>Marty                                         ...</td>\n",
       "      <td>McSherry                                      ...</td>\n",
       "      <td>3227</td>\n",
       "      <td>Inspiration                                   ...</td>\n",
       "      <td>10126</td>\n",
       "      <td>New York City</td>\n",
       "      <td>NY</td>\n",
       "    </tr>\n",
       "    <tr>\n",
       "      <th>744</th>\n",
       "      <td>1362569</td>\n",
       "      <td>61300</td>\n",
       "      <td>50</td>\n",
       "      <td>0</td>\n",
       "      <td>2</td>\n",
       "      <td>M</td>\n",
       "      <td>2</td>\n",
       "      <td></td>\n",
       "      <td>Ken                                           ...</td>\n",
       "      <td>Lawrence                                      ...</td>\n",
       "      <td>6082</td>\n",
       "      <td>23rd                                          ...</td>\n",
       "      <td>87194</td>\n",
       "      <td>Albuquerque</td>\n",
       "      <td>NM</td>\n",
       "    </tr>\n",
       "    <tr>\n",
       "      <th>745</th>\n",
       "      <td>1363364</td>\n",
       "      <td>15100</td>\n",
       "      <td>37</td>\n",
       "      <td>7</td>\n",
       "      <td>0</td>\n",
       "      <td>F</td>\n",
       "      <td>2</td>\n",
       "      <td></td>\n",
       "      <td>Debbie                                        ...</td>\n",
       "      <td>Runner                                        ...</td>\n",
       "      <td>7851</td>\n",
       "      <td>H                                             ...</td>\n",
       "      <td>35241</td>\n",
       "      <td>Birmingham</td>\n",
       "      <td>AL</td>\n",
       "    </tr>\n",
       "    <tr>\n",
       "      <th>746</th>\n",
       "      <td>1363303</td>\n",
       "      <td>17875</td>\n",
       "      <td>18</td>\n",
       "      <td>3</td>\n",
       "      <td>0</td>\n",
       "      <td>F</td>\n",
       "      <td>1</td>\n",
       "      <td></td>\n",
       "      <td>Molly                                         ...</td>\n",
       "      <td>Potter                                        ...</td>\n",
       "      <td>7824</td>\n",
       "      <td>E                                             ...</td>\n",
       "      <td>90029</td>\n",
       "      <td>Los Angeles</td>\n",
       "      <td>CA</td>\n",
       "    </tr>\n",
       "  </tbody>\n",
       "</table>\n",
       "<p>747 rows × 15 columns</p>\n",
       "</div>"
      ],
      "text/plain": [
       "     cust_id  income  age  years_with_bank  nbr_children gender  \\\n",
       "0    1362691   26150   46                5             1     M    \n",
       "1    1362487    6605   71                1             0     M    \n",
       "2    1363160   18548   38                8             0     F    \n",
       "3    1362752   47668   54                3             0     F    \n",
       "4    1362548   44554   59                9             2     F    \n",
       "..       ...     ...  ...              ...           ...    ...   \n",
       "742  1363324   14795   36                6             1     F    \n",
       "743  1362895   26387   56                6             1     M    \n",
       "744  1362569   61300   50                0             2     M    \n",
       "745  1363364   15100   37                7             0     F    \n",
       "746  1363303   17875   18                3             0     F    \n",
       "\n",
       "     marital_status name_prefix  \\\n",
       "0                 2               \n",
       "1                 2               \n",
       "2                 1               \n",
       "3                 1               \n",
       "4                 4               \n",
       "..              ...         ...   \n",
       "742               4               \n",
       "743               2               \n",
       "744               2               \n",
       "745               2               \n",
       "746               1               \n",
       "\n",
       "                                            first_name  \\\n",
       "0    Donald                                        ...   \n",
       "1    ChingDyi                                      ...   \n",
       "2    Rosa                                          ...   \n",
       "3    Lisa                                          ...   \n",
       "4    Barbara                                       ...   \n",
       "..                                                 ...   \n",
       "742  Lillian                                       ...   \n",
       "743  Marty                                         ...   \n",
       "744  Ken                                           ...   \n",
       "745  Debbie                                        ...   \n",
       "746  Molly                                         ...   \n",
       "\n",
       "                                             last_name  street_nbr  \\\n",
       "0    Marek                                         ...        8298   \n",
       "1    Moussavi                                      ...       10603   \n",
       "2    Johnston                                      ...        8817   \n",
       "3    Martin                                        ...         676   \n",
       "4    O'Malley                                      ...        6578   \n",
       "..                                                 ...         ...   \n",
       "742  Kaufman                                       ...        9677   \n",
       "743  McSherry                                      ...        3227   \n",
       "744  Lawrence                                      ...        6082   \n",
       "745  Runner                                        ...        7851   \n",
       "746  Potter                                        ...        7824   \n",
       "\n",
       "                                           street_name  postal_code  \\\n",
       "0    Second                                        ...        89194   \n",
       "1    Daffodil                                      ...        90159   \n",
       "2    Figueroa                                      ...        90024   \n",
       "3    Humble                                        ...        90172   \n",
       "4    C                                             ...        10138   \n",
       "..                                                 ...          ...   \n",
       "742  B                                             ...        90016   \n",
       "743  Inspiration                                   ...        10126   \n",
       "744  23rd                                          ...        87194   \n",
       "745  H                                             ...        35241   \n",
       "746  E                                             ...        90029   \n",
       "\n",
       "                                    city_name state_code  \n",
       "0    Las Vegas                                      NV    \n",
       "1    Los Angeles                                    CA    \n",
       "2    Los Angeles                                    CA    \n",
       "3    Los Angeles                                    CA    \n",
       "4    New York City                                  NY    \n",
       "..                                        ...        ...  \n",
       "742  Los Angeles                                    CA    \n",
       "743  New York City                                  NY    \n",
       "744  Albuquerque                                    NM    \n",
       "745  Birmingham                                     AL    \n",
       "746  Los Angeles                                    CA    \n",
       "\n",
       "[747 rows x 15 columns]"
      ]
     },
     "execution_count": 101,
     "metadata": {},
     "output_type": "execute_result"
    }
   ],
   "source": [
    "cust_data\n",
    "#cluster by income using: age, martial_status, nbr_children, years_with_bank"
   ]
  },
  {
   "cell_type": "code",
   "execution_count": 23,
   "metadata": {},
   "outputs": [],
   "source": [
    "cust1 = cust_data[['income', 'age', 'gender', 'marital_status', 'state_code']]"
   ]
  },
  {
   "cell_type": "code",
   "execution_count": 181,
   "metadata": {},
   "outputs": [],
   "source": [
    "cust2 = cust_data[['income', 'age', 'years_with_bank', 'nbr_children', 'marital_status']]\n",
    "\n",
    "scaled_cust2 = scaler.fit_transform(cust2)\n",
    "columns = cust2.columns\n",
    "df_cust2 = pd.DataFrame(scaled_cust2, columns=columns)"
   ]
  },
  {
   "cell_type": "code",
   "execution_count": 182,
   "metadata": {},
   "outputs": [
    {
     "data": {
      "text/html": [
       "<div>\n",
       "<style scoped>\n",
       "    .dataframe tbody tr th:only-of-type {\n",
       "        vertical-align: middle;\n",
       "    }\n",
       "\n",
       "    .dataframe tbody tr th {\n",
       "        vertical-align: top;\n",
       "    }\n",
       "\n",
       "    .dataframe thead th {\n",
       "        text-align: right;\n",
       "    }\n",
       "</style>\n",
       "<table border=\"1\" class=\"dataframe\">\n",
       "  <thead>\n",
       "    <tr style=\"text-align: right;\">\n",
       "      <th></th>\n",
       "      <th>income</th>\n",
       "      <th>age</th>\n",
       "      <th>years_with_bank</th>\n",
       "      <th>nbr_children</th>\n",
       "      <th>marital_status</th>\n",
       "    </tr>\n",
       "  </thead>\n",
       "  <tbody>\n",
       "    <tr>\n",
       "      <th>0</th>\n",
       "      <td>0.154185</td>\n",
       "      <td>0.184312</td>\n",
       "      <td>0.408539</td>\n",
       "      <td>0.258591</td>\n",
       "      <td>0.132149</td>\n",
       "    </tr>\n",
       "    <tr>\n",
       "      <th>1</th>\n",
       "      <td>-0.726524</td>\n",
       "      <td>1.493070</td>\n",
       "      <td>-1.087435</td>\n",
       "      <td>-0.648298</td>\n",
       "      <td>0.132149</td>\n",
       "    </tr>\n",
       "    <tr>\n",
       "      <th>2</th>\n",
       "      <td>-0.188366</td>\n",
       "      <td>-0.234490</td>\n",
       "      <td>1.530520</td>\n",
       "      <td>-0.648298</td>\n",
       "      <td>-0.989614</td>\n",
       "    </tr>\n",
       "    <tr>\n",
       "      <th>3</th>\n",
       "      <td>1.123798</td>\n",
       "      <td>0.603115</td>\n",
       "      <td>-0.339448</td>\n",
       "      <td>-0.648298</td>\n",
       "      <td>-0.989614</td>\n",
       "    </tr>\n",
       "    <tr>\n",
       "      <th>4</th>\n",
       "      <td>0.983479</td>\n",
       "      <td>0.864867</td>\n",
       "      <td>1.904514</td>\n",
       "      <td>1.165479</td>\n",
       "      <td>2.375675</td>\n",
       "    </tr>\n",
       "    <tr>\n",
       "      <th>...</th>\n",
       "      <td>...</td>\n",
       "      <td>...</td>\n",
       "      <td>...</td>\n",
       "      <td>...</td>\n",
       "      <td>...</td>\n",
       "    </tr>\n",
       "    <tr>\n",
       "      <th>742</th>\n",
       "      <td>-0.357478</td>\n",
       "      <td>-0.339191</td>\n",
       "      <td>0.782533</td>\n",
       "      <td>0.258591</td>\n",
       "      <td>2.375675</td>\n",
       "    </tr>\n",
       "    <tr>\n",
       "      <th>743</th>\n",
       "      <td>0.164864</td>\n",
       "      <td>0.707816</td>\n",
       "      <td>0.782533</td>\n",
       "      <td>0.258591</td>\n",
       "      <td>0.132149</td>\n",
       "    </tr>\n",
       "    <tr>\n",
       "      <th>744</th>\n",
       "      <td>1.738064</td>\n",
       "      <td>0.393714</td>\n",
       "      <td>-1.461429</td>\n",
       "      <td>1.165479</td>\n",
       "      <td>0.132149</td>\n",
       "    </tr>\n",
       "    <tr>\n",
       "      <th>745</th>\n",
       "      <td>-0.343735</td>\n",
       "      <td>-0.286841</td>\n",
       "      <td>1.156526</td>\n",
       "      <td>-0.648298</td>\n",
       "      <td>0.132149</td>\n",
       "    </tr>\n",
       "    <tr>\n",
       "      <th>746</th>\n",
       "      <td>-0.218692</td>\n",
       "      <td>-1.281497</td>\n",
       "      <td>-0.339448</td>\n",
       "      <td>-0.648298</td>\n",
       "      <td>-0.989614</td>\n",
       "    </tr>\n",
       "  </tbody>\n",
       "</table>\n",
       "<p>747 rows × 5 columns</p>\n",
       "</div>"
      ],
      "text/plain": [
       "       income       age  years_with_bank  nbr_children  marital_status\n",
       "0    0.154185  0.184312         0.408539      0.258591        0.132149\n",
       "1   -0.726524  1.493070        -1.087435     -0.648298        0.132149\n",
       "2   -0.188366 -0.234490         1.530520     -0.648298       -0.989614\n",
       "3    1.123798  0.603115        -0.339448     -0.648298       -0.989614\n",
       "4    0.983479  0.864867         1.904514      1.165479        2.375675\n",
       "..        ...       ...              ...           ...             ...\n",
       "742 -0.357478 -0.339191         0.782533      0.258591        2.375675\n",
       "743  0.164864  0.707816         0.782533      0.258591        0.132149\n",
       "744  1.738064  0.393714        -1.461429      1.165479        0.132149\n",
       "745 -0.343735 -0.286841         1.156526     -0.648298        0.132149\n",
       "746 -0.218692 -1.281497        -0.339448     -0.648298       -0.989614\n",
       "\n",
       "[747 rows x 5 columns]"
      ]
     },
     "execution_count": 182,
     "metadata": {},
     "output_type": "execute_result"
    }
   ],
   "source": [
    "#new scaled and filtered data\n",
    "df_cust2"
   ]
  },
  {
   "cell_type": "code",
   "execution_count": 24,
   "metadata": {},
   "outputs": [
    {
     "name": "stderr",
     "output_type": "stream",
     "text": [
      "<ipython-input-24-bc4c3828734f>:6: SettingWithCopyWarning: \n",
      "A value is trying to be set on a copy of a slice from a DataFrame.\n",
      "Try using .loc[row_indexer,col_indexer] = value instead\n",
      "\n",
      "See the caveats in the documentation: https://pandas.pydata.org/pandas-docs/stable/user_guide/indexing.html#returning-a-view-versus-a-copy\n",
      "  cust1['gender_code'] = pd.Series.apply(cust1['gender'],gender)\n"
     ]
    }
   ],
   "source": [
    "def gender(x):\n",
    "    if x == 'M ':\n",
    "        return 1\n",
    "    else:\n",
    "        return 0\n",
    "cust1['gender_code'] = pd.Series.apply(cust1['gender'],gender)"
   ]
  },
  {
   "cell_type": "code",
   "execution_count": 25,
   "metadata": {},
   "outputs": [],
   "source": [
    "cust1 = cust1.drop(columns='gender')"
   ]
  },
  {
   "cell_type": "code",
   "execution_count": 40,
   "metadata": {},
   "outputs": [
    {
     "data": {
      "text/plain": [
       "array(['AL', 'AZ', 'CA', 'CO', 'DC', 'FL', 'GA', 'HI', 'IL', 'IN', 'KS',\n",
       "       'KY', 'LA', 'MA', 'MD', 'MI', 'MN', 'MO', 'NB', 'NC', 'NJ', 'NM',\n",
       "       'NV', 'NY', 'OH', 'OK', 'OR', 'PA', 'TN', 'TX', 'VA', 'WA', 'WI'],\n",
       "      dtype=object)"
      ]
     },
     "execution_count": 40,
     "metadata": {},
     "output_type": "execute_result"
    }
   ],
   "source": [
    "sc = cust1['state_code'].sort_values().unique()\n",
    "sc"
   ]
  },
  {
   "cell_type": "code",
   "execution_count": 27,
   "metadata": {},
   "outputs": [],
   "source": [
    "def regex(line):\n",
    "    updated_string = re.sub(\"\\s.\", \"\", line)\n",
    "    return updated_string\n",
    "cust1['state_code'] = pd.Series.apply(cust1['state_code'],regex)"
   ]
  },
  {
   "cell_type": "code",
   "execution_count": 46,
   "metadata": {},
   "outputs": [],
   "source": [
    "cust1.replace({\"state_code\": y}, inplace=True)"
   ]
  },
  {
   "cell_type": "code",
   "execution_count": 47,
   "metadata": {},
   "outputs": [
    {
     "data": {
      "text/html": [
       "<div>\n",
       "<style scoped>\n",
       "    .dataframe tbody tr th:only-of-type {\n",
       "        vertical-align: middle;\n",
       "    }\n",
       "\n",
       "    .dataframe tbody tr th {\n",
       "        vertical-align: top;\n",
       "    }\n",
       "\n",
       "    .dataframe thead th {\n",
       "        text-align: right;\n",
       "    }\n",
       "</style>\n",
       "<table border=\"1\" class=\"dataframe\">\n",
       "  <thead>\n",
       "    <tr style=\"text-align: right;\">\n",
       "      <th></th>\n",
       "      <th>income</th>\n",
       "      <th>age</th>\n",
       "      <th>marital_status</th>\n",
       "      <th>state_code</th>\n",
       "      <th>gender_code</th>\n",
       "    </tr>\n",
       "  </thead>\n",
       "  <tbody>\n",
       "    <tr>\n",
       "      <th>0</th>\n",
       "      <td>26150</td>\n",
       "      <td>46</td>\n",
       "      <td>2</td>\n",
       "      <td>22</td>\n",
       "      <td>1</td>\n",
       "    </tr>\n",
       "    <tr>\n",
       "      <th>1</th>\n",
       "      <td>6605</td>\n",
       "      <td>71</td>\n",
       "      <td>2</td>\n",
       "      <td>2</td>\n",
       "      <td>1</td>\n",
       "    </tr>\n",
       "    <tr>\n",
       "      <th>2</th>\n",
       "      <td>18548</td>\n",
       "      <td>38</td>\n",
       "      <td>1</td>\n",
       "      <td>2</td>\n",
       "      <td>0</td>\n",
       "    </tr>\n",
       "    <tr>\n",
       "      <th>3</th>\n",
       "      <td>47668</td>\n",
       "      <td>54</td>\n",
       "      <td>1</td>\n",
       "      <td>2</td>\n",
       "      <td>0</td>\n",
       "    </tr>\n",
       "    <tr>\n",
       "      <th>4</th>\n",
       "      <td>44554</td>\n",
       "      <td>59</td>\n",
       "      <td>4</td>\n",
       "      <td>23</td>\n",
       "      <td>0</td>\n",
       "    </tr>\n",
       "    <tr>\n",
       "      <th>...</th>\n",
       "      <td>...</td>\n",
       "      <td>...</td>\n",
       "      <td>...</td>\n",
       "      <td>...</td>\n",
       "      <td>...</td>\n",
       "    </tr>\n",
       "    <tr>\n",
       "      <th>742</th>\n",
       "      <td>14795</td>\n",
       "      <td>36</td>\n",
       "      <td>4</td>\n",
       "      <td>2</td>\n",
       "      <td>0</td>\n",
       "    </tr>\n",
       "    <tr>\n",
       "      <th>743</th>\n",
       "      <td>26387</td>\n",
       "      <td>56</td>\n",
       "      <td>2</td>\n",
       "      <td>23</td>\n",
       "      <td>1</td>\n",
       "    </tr>\n",
       "    <tr>\n",
       "      <th>744</th>\n",
       "      <td>61300</td>\n",
       "      <td>50</td>\n",
       "      <td>2</td>\n",
       "      <td>21</td>\n",
       "      <td>1</td>\n",
       "    </tr>\n",
       "    <tr>\n",
       "      <th>745</th>\n",
       "      <td>15100</td>\n",
       "      <td>37</td>\n",
       "      <td>2</td>\n",
       "      <td>0</td>\n",
       "      <td>0</td>\n",
       "    </tr>\n",
       "    <tr>\n",
       "      <th>746</th>\n",
       "      <td>17875</td>\n",
       "      <td>18</td>\n",
       "      <td>1</td>\n",
       "      <td>2</td>\n",
       "      <td>0</td>\n",
       "    </tr>\n",
       "  </tbody>\n",
       "</table>\n",
       "<p>747 rows × 5 columns</p>\n",
       "</div>"
      ],
      "text/plain": [
       "     income  age  marital_status  state_code  gender_code\n",
       "0     26150   46               2          22            1\n",
       "1      6605   71               2           2            1\n",
       "2     18548   38               1           2            0\n",
       "3     47668   54               1           2            0\n",
       "4     44554   59               4          23            0\n",
       "..      ...  ...             ...         ...          ...\n",
       "742   14795   36               4           2            0\n",
       "743   26387   56               2          23            1\n",
       "744   61300   50               2          21            1\n",
       "745   15100   37               2           0            0\n",
       "746   17875   18               1           2            0\n",
       "\n",
       "[747 rows x 5 columns]"
      ]
     },
     "execution_count": 47,
     "metadata": {},
     "output_type": "execute_result"
    }
   ],
   "source": [
    "#cleaned and prepped data\n",
    "cust1"
   ]
  },
  {
   "cell_type": "code",
   "execution_count": 41,
   "metadata": {},
   "outputs": [
    {
     "data": {
      "text/plain": [
       "array(['AL', 'AZ', 'CA', 'CO', 'DC', 'FL', 'GA', 'HI', 'IL', 'IN', 'KS',\n",
       "       'KY', 'LA', 'MA', 'MD', 'MI', 'MN', 'MO', 'NB', 'NC', 'NJ', 'NM',\n",
       "       'NV', 'NY', 'OH', 'OK', 'OR', 'PA', 'TN', 'TX', 'VA', 'WA', 'WI'],\n",
       "      dtype=object)"
      ]
     },
     "execution_count": 41,
     "metadata": {},
     "output_type": "execute_result"
    }
   ],
   "source": [
    "sc"
   ]
  },
  {
   "cell_type": "code",
   "execution_count": 42,
   "metadata": {},
   "outputs": [],
   "source": [
    "emp_list = []"
   ]
  },
  {
   "cell_type": "code",
   "execution_count": 43,
   "metadata": {},
   "outputs": [],
   "source": [
    "for i, x in enumerate(sc):\n",
    "    emp_list.append((x, i))"
   ]
  },
  {
   "cell_type": "code",
   "execution_count": 44,
   "metadata": {},
   "outputs": [],
   "source": [
    "y = dict(emp_list)"
   ]
  },
  {
   "cell_type": "code",
   "execution_count": 52,
   "metadata": {},
   "outputs": [],
   "source": [
    "scaler = StandardScaler()\n",
    "scaled_cust1 = scaler.fit_transform(cust1)"
   ]
  },
  {
   "cell_type": "code",
   "execution_count": 57,
   "metadata": {},
   "outputs": [],
   "source": [
    "columns=cust1.columns"
   ]
  },
  {
   "cell_type": "code",
   "execution_count": 58,
   "metadata": {},
   "outputs": [],
   "source": [
    "df_cust1 = pd.DataFrame(scaled_cust1, columns=columns)"
   ]
  },
  {
   "cell_type": "code",
   "execution_count": 173,
   "metadata": {},
   "outputs": [
    {
     "data": {
      "text/html": [
       "<div>\n",
       "<style scoped>\n",
       "    .dataframe tbody tr th:only-of-type {\n",
       "        vertical-align: middle;\n",
       "    }\n",
       "\n",
       "    .dataframe tbody tr th {\n",
       "        vertical-align: top;\n",
       "    }\n",
       "\n",
       "    .dataframe thead th {\n",
       "        text-align: right;\n",
       "    }\n",
       "</style>\n",
       "<table border=\"1\" class=\"dataframe\">\n",
       "  <thead>\n",
       "    <tr style=\"text-align: right;\">\n",
       "      <th></th>\n",
       "      <th>income</th>\n",
       "      <th>age</th>\n",
       "      <th>marital_status</th>\n",
       "      <th>state_code</th>\n",
       "      <th>gender_code</th>\n",
       "    </tr>\n",
       "  </thead>\n",
       "  <tbody>\n",
       "    <tr>\n",
       "      <th>0</th>\n",
       "      <td>0.154185</td>\n",
       "      <td>0.184312</td>\n",
       "      <td>0.132149</td>\n",
       "      <td>0.649738</td>\n",
       "      <td>1.127172</td>\n",
       "    </tr>\n",
       "    <tr>\n",
       "      <th>1</th>\n",
       "      <td>-0.726524</td>\n",
       "      <td>1.493070</td>\n",
       "      <td>0.132149</td>\n",
       "      <td>-1.198878</td>\n",
       "      <td>1.127172</td>\n",
       "    </tr>\n",
       "    <tr>\n",
       "      <th>2</th>\n",
       "      <td>-0.188366</td>\n",
       "      <td>-0.234490</td>\n",
       "      <td>-0.989614</td>\n",
       "      <td>-1.198878</td>\n",
       "      <td>-0.887176</td>\n",
       "    </tr>\n",
       "    <tr>\n",
       "      <th>3</th>\n",
       "      <td>1.123798</td>\n",
       "      <td>0.603115</td>\n",
       "      <td>-0.989614</td>\n",
       "      <td>-1.198878</td>\n",
       "      <td>-0.887176</td>\n",
       "    </tr>\n",
       "    <tr>\n",
       "      <th>4</th>\n",
       "      <td>0.983479</td>\n",
       "      <td>0.864867</td>\n",
       "      <td>2.375675</td>\n",
       "      <td>0.742169</td>\n",
       "      <td>-0.887176</td>\n",
       "    </tr>\n",
       "    <tr>\n",
       "      <th>...</th>\n",
       "      <td>...</td>\n",
       "      <td>...</td>\n",
       "      <td>...</td>\n",
       "      <td>...</td>\n",
       "      <td>...</td>\n",
       "    </tr>\n",
       "    <tr>\n",
       "      <th>742</th>\n",
       "      <td>-0.357478</td>\n",
       "      <td>-0.339191</td>\n",
       "      <td>2.375675</td>\n",
       "      <td>-1.198878</td>\n",
       "      <td>-0.887176</td>\n",
       "    </tr>\n",
       "    <tr>\n",
       "      <th>743</th>\n",
       "      <td>0.164864</td>\n",
       "      <td>0.707816</td>\n",
       "      <td>0.132149</td>\n",
       "      <td>0.742169</td>\n",
       "      <td>1.127172</td>\n",
       "    </tr>\n",
       "    <tr>\n",
       "      <th>744</th>\n",
       "      <td>1.738064</td>\n",
       "      <td>0.393714</td>\n",
       "      <td>0.132149</td>\n",
       "      <td>0.557307</td>\n",
       "      <td>1.127172</td>\n",
       "    </tr>\n",
       "    <tr>\n",
       "      <th>745</th>\n",
       "      <td>-0.343735</td>\n",
       "      <td>-0.286841</td>\n",
       "      <td>0.132149</td>\n",
       "      <td>-1.383740</td>\n",
       "      <td>-0.887176</td>\n",
       "    </tr>\n",
       "    <tr>\n",
       "      <th>746</th>\n",
       "      <td>-0.218692</td>\n",
       "      <td>-1.281497</td>\n",
       "      <td>-0.989614</td>\n",
       "      <td>-1.198878</td>\n",
       "      <td>-0.887176</td>\n",
       "    </tr>\n",
       "  </tbody>\n",
       "</table>\n",
       "<p>747 rows × 5 columns</p>\n",
       "</div>"
      ],
      "text/plain": [
       "       income       age  marital_status  state_code  gender_code\n",
       "0    0.154185  0.184312        0.132149    0.649738     1.127172\n",
       "1   -0.726524  1.493070        0.132149   -1.198878     1.127172\n",
       "2   -0.188366 -0.234490       -0.989614   -1.198878    -0.887176\n",
       "3    1.123798  0.603115       -0.989614   -1.198878    -0.887176\n",
       "4    0.983479  0.864867        2.375675    0.742169    -0.887176\n",
       "..        ...       ...             ...         ...          ...\n",
       "742 -0.357478 -0.339191        2.375675   -1.198878    -0.887176\n",
       "743  0.164864  0.707816        0.132149    0.742169     1.127172\n",
       "744  1.738064  0.393714        0.132149    0.557307     1.127172\n",
       "745 -0.343735 -0.286841        0.132149   -1.383740    -0.887176\n",
       "746 -0.218692 -1.281497       -0.989614   -1.198878    -0.887176\n",
       "\n",
       "[747 rows x 5 columns]"
      ]
     },
     "execution_count": 173,
     "metadata": {},
     "output_type": "execute_result"
    }
   ],
   "source": [
    "df_cust1"
   ]
  },
  {
   "cell_type": "code",
   "execution_count": 59,
   "metadata": {},
   "outputs": [
    {
     "data": {
      "text/html": [
       "<div>\n",
       "<style scoped>\n",
       "    .dataframe tbody tr th:only-of-type {\n",
       "        vertical-align: middle;\n",
       "    }\n",
       "\n",
       "    .dataframe tbody tr th {\n",
       "        vertical-align: top;\n",
       "    }\n",
       "\n",
       "    .dataframe thead th {\n",
       "        text-align: right;\n",
       "    }\n",
       "</style>\n",
       "<table border=\"1\" class=\"dataframe\">\n",
       "  <thead>\n",
       "    <tr style=\"text-align: right;\">\n",
       "      <th></th>\n",
       "      <th>income</th>\n",
       "      <th>age</th>\n",
       "      <th>marital_status</th>\n",
       "      <th>state_code</th>\n",
       "      <th>gender_code</th>\n",
       "    </tr>\n",
       "  </thead>\n",
       "  <tbody>\n",
       "    <tr>\n",
       "      <th>0</th>\n",
       "      <td>0.154185</td>\n",
       "      <td>0.184312</td>\n",
       "      <td>0.132149</td>\n",
       "      <td>0.649738</td>\n",
       "      <td>1.127172</td>\n",
       "    </tr>\n",
       "    <tr>\n",
       "      <th>1</th>\n",
       "      <td>-0.726524</td>\n",
       "      <td>1.493070</td>\n",
       "      <td>0.132149</td>\n",
       "      <td>-1.198878</td>\n",
       "      <td>1.127172</td>\n",
       "    </tr>\n",
       "    <tr>\n",
       "      <th>2</th>\n",
       "      <td>-0.188366</td>\n",
       "      <td>-0.234490</td>\n",
       "      <td>-0.989614</td>\n",
       "      <td>-1.198878</td>\n",
       "      <td>-0.887176</td>\n",
       "    </tr>\n",
       "    <tr>\n",
       "      <th>3</th>\n",
       "      <td>1.123798</td>\n",
       "      <td>0.603115</td>\n",
       "      <td>-0.989614</td>\n",
       "      <td>-1.198878</td>\n",
       "      <td>-0.887176</td>\n",
       "    </tr>\n",
       "    <tr>\n",
       "      <th>4</th>\n",
       "      <td>0.983479</td>\n",
       "      <td>0.864867</td>\n",
       "      <td>2.375675</td>\n",
       "      <td>0.742169</td>\n",
       "      <td>-0.887176</td>\n",
       "    </tr>\n",
       "    <tr>\n",
       "      <th>...</th>\n",
       "      <td>...</td>\n",
       "      <td>...</td>\n",
       "      <td>...</td>\n",
       "      <td>...</td>\n",
       "      <td>...</td>\n",
       "    </tr>\n",
       "    <tr>\n",
       "      <th>742</th>\n",
       "      <td>-0.357478</td>\n",
       "      <td>-0.339191</td>\n",
       "      <td>2.375675</td>\n",
       "      <td>-1.198878</td>\n",
       "      <td>-0.887176</td>\n",
       "    </tr>\n",
       "    <tr>\n",
       "      <th>743</th>\n",
       "      <td>0.164864</td>\n",
       "      <td>0.707816</td>\n",
       "      <td>0.132149</td>\n",
       "      <td>0.742169</td>\n",
       "      <td>1.127172</td>\n",
       "    </tr>\n",
       "    <tr>\n",
       "      <th>744</th>\n",
       "      <td>1.738064</td>\n",
       "      <td>0.393714</td>\n",
       "      <td>0.132149</td>\n",
       "      <td>0.557307</td>\n",
       "      <td>1.127172</td>\n",
       "    </tr>\n",
       "    <tr>\n",
       "      <th>745</th>\n",
       "      <td>-0.343735</td>\n",
       "      <td>-0.286841</td>\n",
       "      <td>0.132149</td>\n",
       "      <td>-1.383740</td>\n",
       "      <td>-0.887176</td>\n",
       "    </tr>\n",
       "    <tr>\n",
       "      <th>746</th>\n",
       "      <td>-0.218692</td>\n",
       "      <td>-1.281497</td>\n",
       "      <td>-0.989614</td>\n",
       "      <td>-1.198878</td>\n",
       "      <td>-0.887176</td>\n",
       "    </tr>\n",
       "  </tbody>\n",
       "</table>\n",
       "<p>747 rows × 5 columns</p>\n",
       "</div>"
      ],
      "text/plain": [
       "       income       age  marital_status  state_code  gender_code\n",
       "0    0.154185  0.184312        0.132149    0.649738     1.127172\n",
       "1   -0.726524  1.493070        0.132149   -1.198878     1.127172\n",
       "2   -0.188366 -0.234490       -0.989614   -1.198878    -0.887176\n",
       "3    1.123798  0.603115       -0.989614   -1.198878    -0.887176\n",
       "4    0.983479  0.864867        2.375675    0.742169    -0.887176\n",
       "..        ...       ...             ...         ...          ...\n",
       "742 -0.357478 -0.339191        2.375675   -1.198878    -0.887176\n",
       "743  0.164864  0.707816        0.132149    0.742169     1.127172\n",
       "744  1.738064  0.393714        0.132149    0.557307     1.127172\n",
       "745 -0.343735 -0.286841        0.132149   -1.383740    -0.887176\n",
       "746 -0.218692 -1.281497       -0.989614   -1.198878    -0.887176\n",
       "\n",
       "[747 rows x 5 columns]"
      ]
     },
     "execution_count": 59,
     "metadata": {},
     "output_type": "execute_result"
    }
   ],
   "source": [
    "X = df_cust1.drop(columns='state_code')"
   ]
  },
  {
   "cell_type": "code",
   "execution_count": 73,
   "metadata": {},
   "outputs": [],
   "source": [
    "X = df_cust1.drop(columns='state_code',)"
   ]
  },
  {
   "cell_type": "code",
   "execution_count": null,
   "metadata": {},
   "outputs": [],
   "source": []
  },
  {
   "cell_type": "code",
   "execution_count": 168,
   "metadata": {},
   "outputs": [
    {
     "data": {
      "application/vnd.plotly.v1+json": {
       "config": {
        "plotlyServerURL": "https://plot.ly"
       },
       "data": [
        {
         "hovertemplate": "0=%{x}<br>1=%{y}<br>color=%{marker.color}<extra></extra>",
         "legendgroup": "",
         "marker": {
          "color": [
           1,
           1,
           2,
           1,
           0,
           0,
           2,
           1,
           0,
           1,
           2,
           2,
           2,
           2,
           0,
           2,
           0,
           2,
           1,
           2,
           0,
           1,
           1,
           1,
           0,
           1,
           2,
           2,
           1,
           1,
           1,
           0,
           0,
           1,
           2,
           0,
           2,
           0,
           1,
           2,
           2,
           0,
           0,
           0,
           2,
           1,
           1,
           0,
           0,
           0,
           2,
           2,
           0,
           1,
           1,
           1,
           1,
           1,
           1,
           2,
           0,
           2,
           2,
           2,
           1,
           2,
           1,
           0,
           2,
           2,
           2,
           0,
           1,
           1,
           1,
           1,
           2,
           1,
           2,
           2,
           0,
           0,
           2,
           2,
           1,
           0,
           2,
           0,
           2,
           1,
           0,
           2,
           2,
           2,
           2,
           1,
           2,
           2,
           1,
           0,
           1,
           0,
           0,
           1,
           0,
           1,
           1,
           1,
           1,
           2,
           2,
           1,
           1,
           1,
           0,
           0,
           0,
           2,
           1,
           0,
           0,
           0,
           0,
           0,
           2,
           1,
           2,
           0,
           0,
           2,
           1,
           2,
           2,
           2,
           1,
           2,
           1,
           0,
           2,
           1,
           1,
           1,
           0,
           2,
           0,
           2,
           1,
           1,
           1,
           0,
           2,
           1,
           2,
           0,
           1,
           1,
           0,
           1,
           0,
           1,
           0,
           1,
           2,
           0,
           0,
           0,
           1,
           2,
           2,
           1,
           0,
           1,
           1,
           1,
           2,
           2,
           1,
           0,
           1,
           1,
           2,
           2,
           1,
           2,
           1,
           1,
           1,
           0,
           1,
           0,
           2,
           0,
           2,
           2,
           0,
           2,
           2,
           2,
           0,
           0,
           1,
           1,
           2,
           2,
           1,
           1,
           0,
           2,
           2,
           1,
           2,
           2,
           1,
           1,
           2,
           0,
           2,
           0,
           0,
           0,
           1,
           0,
           0,
           0,
           2,
           0,
           2,
           1,
           0,
           2,
           2,
           2,
           2,
           2,
           2,
           2,
           0,
           0,
           2,
           1,
           0,
           2,
           1,
           1,
           2,
           0,
           0,
           1,
           1,
           1,
           1,
           1,
           0,
           1,
           1,
           1,
           1,
           2,
           1,
           1,
           0,
           1,
           0,
           1,
           2,
           2,
           1,
           2,
           0,
           0,
           0,
           2,
           2,
           2,
           1,
           0,
           1,
           0,
           1,
           2,
           2,
           1,
           1,
           0,
           0,
           2,
           0,
           0,
           0,
           2,
           2,
           0,
           0,
           2,
           1,
           2,
           1,
           0,
           2,
           2,
           2,
           2,
           2,
           2,
           2,
           1,
           0,
           0,
           0,
           1,
           1,
           2,
           1,
           0,
           2,
           0,
           2,
           1,
           0,
           0,
           1,
           1,
           0,
           2,
           0,
           1,
           2,
           1,
           2,
           1,
           2,
           0,
           1,
           0,
           2,
           1,
           2,
           1,
           0,
           0,
           2,
           0,
           1,
           2,
           2,
           1,
           0,
           2,
           1,
           0,
           2,
           0,
           0,
           1,
           2,
           1,
           2,
           0,
           1,
           2,
           2,
           1,
           2,
           1,
           2,
           1,
           2,
           1,
           2,
           0,
           1,
           1,
           2,
           0,
           1,
           1,
           0,
           1,
           2,
           2,
           1,
           1,
           2,
           2,
           2,
           0,
           1,
           1,
           0,
           0,
           1,
           1,
           1,
           0,
           2,
           2,
           1,
           2,
           0,
           1,
           1,
           0,
           0,
           0,
           1,
           1,
           0,
           2,
           2,
           0,
           1,
           2,
           2,
           0,
           1,
           2,
           1,
           1,
           1,
           1,
           2,
           1,
           0,
           0,
           1,
           2,
           1,
           0,
           1,
           2,
           0,
           2,
           1,
           1,
           2,
           2,
           2,
           1,
           2,
           2,
           1,
           0,
           0,
           2,
           0,
           2,
           1,
           1,
           1,
           2,
           1,
           0,
           1,
           1,
           0,
           0,
           2,
           1,
           1,
           1,
           0,
           1,
           2,
           2,
           2,
           0,
           1,
           2,
           1,
           2,
           2,
           0,
           1,
           2,
           2,
           1,
           2,
           2,
           2,
           0,
           2,
           2,
           1,
           2,
           0,
           0,
           0,
           0,
           1,
           0,
           0,
           2,
           1,
           2,
           0,
           1,
           1,
           1,
           0,
           2,
           0,
           2,
           0,
           2,
           1,
           2,
           2,
           1,
           1,
           2,
           0,
           0,
           1,
           0,
           1,
           1,
           1,
           0,
           1,
           1,
           0,
           2,
           0,
           2,
           1,
           1,
           1,
           1,
           1,
           2,
           1,
           2,
           2,
           0,
           0,
           0,
           2,
           1,
           2,
           0,
           2,
           0,
           0,
           2,
           1,
           2,
           1,
           2,
           2,
           2,
           2,
           0,
           1,
           2,
           1,
           1,
           0,
           2,
           1,
           1,
           1,
           1,
           2,
           1,
           0,
           2,
           1,
           1,
           0,
           0,
           0,
           0,
           2,
           2,
           2,
           0,
           1,
           2,
           2,
           2,
           1,
           1,
           1,
           1,
           1,
           0,
           0,
           2,
           0,
           0,
           2,
           1,
           0,
           2,
           2,
           0,
           1,
           2,
           2,
           1,
           0,
           2,
           2,
           1,
           0,
           2,
           0,
           0,
           2,
           2,
           1,
           0,
           1,
           2,
           2,
           2,
           2,
           2,
           2,
           2,
           2,
           0,
           0,
           0,
           1,
           1,
           2,
           0,
           0,
           2,
           0,
           1,
           2,
           1,
           1,
           2,
           1,
           0,
           2,
           1,
           1,
           2,
           2,
           0,
           0,
           0,
           0,
           2,
           1,
           0,
           2,
           0,
           0,
           0,
           0,
           0,
           1,
           1,
           1,
           1,
           2,
           2,
           2,
           0,
           0,
           0,
           0,
           2,
           2,
           0,
           2,
           1,
           0,
           2,
           1,
           1,
           0,
           2,
           0,
           0,
           0,
           2,
           2,
           0,
           2,
           2,
           1,
           0,
           0,
           2,
           1,
           1,
           1,
           0,
           1,
           1,
           1,
           1,
           1,
           1,
           1,
           1,
           0,
           0,
           1,
           0,
           2,
           1,
           1,
           2,
           2,
           0,
           0,
           0,
           2,
           0,
           1,
           0,
           2,
           1,
           0,
           2,
           2,
           0,
           0,
           1,
           1,
           2,
           2,
           2,
           2,
           1,
           2,
           1,
           2,
           1,
           1,
           0,
           0,
           1,
           2,
           2,
           0,
           1,
           0,
           2,
           2
          ],
          "coloraxis": "coloraxis",
          "symbol": "circle"
         },
         "mode": "markers",
         "name": "",
         "orientation": "v",
         "showlegend": false,
         "type": "scatter",
         "x": [
          0.4860306362733675,
          0.009959051942333876,
          -1.035413435738202,
          -0.22685512119336604,
          2.861085405747436,
          0.6022643709672901,
          -1.9008437670604665,
          0.07713576513273805,
          3.517939426551413,
          0.17177188157126808,
          -1.0566733170507883,
          -1.9873359315287393,
          -0.2848056025435207,
          -1.5798067827968294,
          0.6451396527012365,
          -1.9833402754688039,
          1.283836274364818,
          -1.8796139849044815,
          0.019206632777061087,
          -1.3358899280759118,
          0.22660592458047032,
          0.054611498540170916,
          1.0909121433842508,
          -0.9443198691061269,
          1.7713877395994286,
          -0.06547669528887891,
          -0.7917763361010358,
          -0.3884170837925369,
          0.6455744153382399,
          0.2953148300353304,
          -0.08518118761883348,
          1.6427177118844802,
          0.9965175130542566,
          0.7466814258749411,
          -0.7657491168286436,
          0.34440971893126093,
          -1.7690918327486744,
          0.3391617352635495,
          -0.7880851000949549,
          -1.3533953919332753,
          -0.7339526053998048,
          1.1171021125387615,
          0.30837676169292483,
          0.38731182257480484,
          -1.1420655489661333,
          0.060885419353572,
          0.3660617663396258,
          0.6595796502015283,
          1.313535878242475,
          0.6292055049145984,
          -1.8661586965464363,
          -1.8381891041268839,
          1.938977280787299,
          0.5203580833365111,
          -0.8436689265893041,
          -0.5898367420073419,
          0.6841614199434597,
          -0.5673283969910062,
          -0.2475138608226344,
          -0.2000837967190726,
          1.2237515000548687,
          -2.147962640495817,
          -1.241431475682359,
          -0.9040594926669512,
          2.8737729042766196,
          -1.062037699116638,
          -0.5882062817976431,
          0.05842327971163044,
          -1.9656794462551757,
          -1.7883277222597038,
          -1.2522266702212916,
          0.5099484072843351,
          -0.25961773082272543,
          -0.33654056429666956,
          0.11775559257591359,
          -0.24719847047840957,
          -0.6381242759549633,
          -0.4999851320231131,
          -1.9842454577045368,
          -1.4343589166407984,
          1.288072680620124,
          1.1843592043175486,
          -0.7651099946516638,
          -1.933714197775687,
          0.3640238255214961,
          0.4314545024612482,
          -0.2552366935873865,
          0.6935322665251293,
          -0.4530597757105235,
          0.5334566635656239,
          1.4372003229185797,
          -2.034776717633386,
          -1.9536924780753673,
          -1.1069515017795741,
          -2.097431380566968,
          -0.5747203230053113,
          -2.0548914327579904,
          -0.9967015570079951,
          0.28196449869240325,
          3.008872829624124,
          0.5720160590370532,
          1.0055688948079649,
          0.44953926148123396,
          0.06435751746408647,
          0.14777385160308154,
          0.9979282380496174,
          2.8003589027796965,
          0.4267844290480662,
          2.9703148492614107,
          -1.1389179702009142,
          -1.8164347806443064,
          0.27269720788714064,
          0.5466064852683264,
          -0.692990170555759,
          0.6329116172757304,
          1.3417870457970353,
          4.158657578054107,
          -0.33073419026475187,
          3.4073827341343295,
          0.9582414003952664,
          2.1339833446163143,
          0.8010857891618446,
          1.1031956241693974,
          3.708088503943767,
          -1.8182912073242112,
          -0.6957544740323224,
          -1.8840342311744889,
          0.17127401790980634,
          0.4336473693060452,
          -2.133392285106392,
          0.8766705478855248,
          -0.10546498565277335,
          -1.9352451365759231,
          -0.34331351988229214,
          0.5031299438859448,
          -1.3473825758528848,
          0.16812085086149473,
          0.8586376936194974,
          -1.9873359315287393,
          -0.23743829598225194,
          2.1179141586882313,
          2.6113814283925563,
          0.8862779091546016,
          -0.592251520913406,
          2.292348922328803,
          -2.147962640495817,
          0.3109724321258693,
          1.1575705834071837,
          0.4241261678115658,
          0.4467653060450583,
          -1.9174421660247212,
          0.6086440569219117,
          -0.5972199824697508,
          2.12232169937153,
          0.08533947391726156,
          0.7645990575638472,
          0.7811815473540781,
          -0.2558871748897043,
          2.8113049742387193,
          0.7626008447726246,
          2.267407415552345,
          1.6463789948197491,
          -1.6285272453417536,
          2.4505917987683143,
          1.0233118216108028,
          3.6448064605002815,
          -0.07894903649882183,
          -0.24792706745107565,
          -0.392763794837526,
          -0.7728873298147352,
          0.13343157492503918,
          0.4473229414957077,
          -0.14529495462677078,
          0.28989171287623616,
          -0.3066576633591547,
          -0.5595143326872312,
          1.1034725798231397,
          2.0493612152048923,
          1.309940557283809,
          0.6323943563090595,
          -1.0820909249448374,
          -1.9842454577045368,
          -0.34505418510488706,
          -2.1267328583398326,
          1.9770393442346605,
          0.275828777535919,
          0.1359960251338478,
          0.05514287828623858,
          -0.914243625766411,
          0.21632867859123653,
          -0.6487371732357453,
          1.8600396008056606,
          -1.338734314573365,
          -1.5922010027658353,
          1.4533576088661704,
          -1.5734949943644188,
          -1.9842454577045368,
          -1.824697064903913,
          0.2642501358301964,
          1.9314045593884928,
          1.146010755303602,
          0.7293202603771891,
          -1.9659707698320783,
          -2.0801972544709186,
          0.6027496893073975,
          1.3774891719559592,
          0.9820493345189091,
          -0.13389787645459358,
          -0.5618797021287626,
          1.3447728625404556,
          -1.545540497961689,
          -1.6643686765114998,
          1.6270807187743932,
          -0.021704675682796045,
          -1.95194961926579,
          2.7676522691064718,
          -1.7083293183374708,
          2.2930610382889607,
          1.5490931616527364,
          1.4749571657690759,
          -0.29045356770075903,
          2.181558380689157,
          1.4914210828595449,
          0.6738249039523784,
          -1.9368046715998903,
          2.5228960631119075,
          -0.8729547518322326,
          -0.3084504866389298,
          1.7744072383841272,
          -1.2090583537841222,
          -2.1347241704597044,
          -1.8216002683050767,
          -1.7477816670956818,
          -1.5179794709544463,
          -2.0748697130576708,
          -1.7983404250463653,
          1.579578947782623,
          1.2285413427507603,
          -0.8746701940091933,
          0.6386081136609099,
          -0.1449976514073499,
          -1.214708418830835,
          -0.8727517508325833,
          -0.9512806432830593,
          -0.6174797727961212,
          2.3159156640561513,
          4.074775353540079,
          -0.5924056516063295,
          0.6418409951472481,
          0.47427854663376756,
          1.148480444984284,
          0.32538428948668985,
          1.5800470562344011,
          0.5745063442937582,
          0.5965300916948441,
          -0.050748725909920786,
          0.7165413980151127,
          -0.6175349556051,
          1.5070290671889752,
          0.19825877030177572,
          0.5674365093909944,
          0.16655214833638043,
          1.7447422175047067,
          1.0343915405999846,
          -1.9417055098955593,
          -2.0627463100529377,
          0.025174203980941574,
          -1.933714197775687,
          2.118420155765398,
          1.2655688408515644,
          2.77578629767856,
          -2.1254009729865206,
          -1.8974919151991168,
          -1.9806765047621802,
          -0.15061797256216608,
          0.3272978994244951,
          -0.3560053429516628,
          0.221271944404747,
          -0.21509242732239156,
          -0.09372841266155221,
          -2.0748697130576708,
          0.3257316882282994,
          0.05164262565513535,
          0.7329676593907537,
          0.6187424809468532,
          -1.794317270964595,
          -0.12791727996936778,
          0.2080810638943183,
          2.187432212110043,
          -1.9656794462551757,
          -2.0707376221728104,
          0.9516026977795601,
          2.646357623178744,
          -1.102066895829718,
          1.8339077133952417,
          -2.0548914327579904,
          -0.47710776782846204,
          0.5201625793855487,
          -1.6267412622415385,
          -1.4216584120169757,
          -0.978893955529289,
          -1.3781195748562596,
          -0.09078541166742526,
          -1.781903352982561,
          -1.0028373663053713,
          0.3325373713267667,
          0.713880550191862,
          1.8594280429949321,
          0.6704747086196603,
          0.4329140963324352,
          1.712346191573049,
          -1.8756183288445452,
          -0.3813149078606821,
          0.007371000833264666,
          -1.2382859839549716,
          0.24781666753268647,
          -1.6947431156481239,
          -0.582982499317176,
          1.4695052573468967,
          0.38815446373857415,
          -0.25844543263406317,
          0.893908407415391,
          2.2011143905420947,
          -1.9368046715998903,
          1.2587131850420998,
          0.1799031787115852,
          -2.1214053169265843,
          1.980886217367359,
          -1.7916535002579708,
          -0.4839505766862533,
          -0.10256708812808517,
          2.7959945888768796,
          0.17288558413922933,
          0.6819161838267231,
          -0.6729590705913934,
          0.5665340570753356,
          -1.2508815982677557,
          0.5005133997000553,
          0.5410344948496804,
          1.451963658102227,
          -1.2745923851335164,
          0.4945465008982535,
          1.8851178642679762,
          -1.9643475609018632,
          -1.8648268111931245,
          0.14394011946193394,
          0.04041438804873044,
          -1.1577554863027772,
          -0.5537734449878452,
          0.7465192429802336,
          -2.0748697130576708,
          1.4424604218719272,
          1.188786348555056,
          0.1271105112396027,
          -1.9088350791803383,
          -0.9801695573272767,
          -1.548787771532864,
          1.2247416564404967,
          0.01633687062022149,
          -1.8448485308934441,
          -1.336691743568908,
          0.4737063681051725,
          -0.794556771438392,
          0.3240464335408947,
          -1.2602154888468051,
          0.012018560145381295,
          -2.0801972544709186,
          -0.08011064136926378,
          -1.933714197775687,
          0.22250632272746407,
          0.2584033650405146,
          -0.006283960693860801,
          -1.9753489633489316,
          1.5257039421621905,
          -0.14990897195308597,
          0.9392211211422945,
          0.9655113534627892,
          0.27965844523046096,
          -1.7451178963890577,
          -0.3506764094524156,
          0.3451656461536623,
          0.12131666050205385,
          -0.18083181345940036,
          -2.046900120638118,
          -1.9008437670604665,
          0.22804684806065892,
          -0.8060327772650595,
          -0.7156085109905825,
          1.2339996499676267,
          0.38958584566707244,
          0.38607378438051126,
          0.7896465705158817,
          0.3260132005472096,
          0.7050793258717422,
          -0.9931412367531617,
          -2.084111471749599,
          -0.10867941771757168,
          -2.034776717633386,
          0.9762569785401429,
          -0.020951320950630948,
          -0.8457670170495708,
          1.9003725229716322,
          1.8412898421007227,
          0.03828402119786366,
          -0.02786890821915797,
          0.013540494178189607,
          2.101031795266378,
          -2.0237094930281687,
          -1.9008437670604665,
          4.0136811095511264,
          1.7281682557031068,
          -0.23506779799828845,
          -0.892467258275912,
          -0.012160885088787276,
          0.8853380992795048,
          -1.1530629719557204,
          0.3894195274771342,
          0.11522588637832086,
          -0.04880914214569811,
          1.2933788141440026,
          -0.7838674408632031,
          0.2066137969821977,
          2.886367839133337,
          1.796556775606059,
          -0.2431950564084925,
          -1.328210625208847,
          0.1612486380178317,
          1.3028628645630003,
          0.006223367992173186,
          -0.809073374232297,
          0.8538407580292837,
          -2.0562233181113028,
          -0.07366384151879281,
          0.21531599598464274,
          -0.6375666453516937,
          -1.3939011765491631,
          -0.5911374375441651,
          -0.38922678810156314,
          -1.8381891041268839,
          -1.933714197775687,
          0.7469376488220854,
          0.3758448467420675,
          0.6348653249098153,
          -0.4608698566622948,
          0.599544080260769,
          -1.6720372993661219,
          0.6813068847308856,
          0.26609317614941724,
          0.14369114790811155,
          -1.2347336985143083,
          1.8255549255591195,
          1.3904243545842492,
          0.8830346952664718,
          0.8776448686942513,
          0.5137689291786527,
          1.5495027806019266,
          -1.9088350791803383,
          -0.05234103993503034,
          0.27968762430787003,
          1.34190019406378,
          1.373091755575475,
          0.4878853040802124,
          -2.016210706184025,
          -1.271569621945338,
          -1.7320527069209364,
          1.8925961168214813,
          0.19978910856884255,
          -0.8559457204764085,
          -0.11165649828208135,
          -1.9842454577045368,
          -1.0272707227885816,
          0.707159588519453,
          -0.497475240900389,
          -1.594583745952857,
          -2.034776717633386,
          -0.7529707003558734,
          -1.8862734116710413,
          -1.8076361244977157,
          -1.5076069153790665,
          1.414894854147022,
          -1.8702907874312973,
          -1.933714197775687,
          1.562927266203912,
          -1.8993947431987048,
          2.4547981612313485,
          1.2133260802532073,
          1.3106153127661389,
          1.8415769781891895,
          0.5111805529231123,
          1.9591877182439965,
          3.3346997090890658,
          -0.8513041645021289,
          0.40517956632921,
          -0.5527196796935492,
          3.1083082468518617,
          0.055757546854157326,
          0.27260353734703296,
          0.1279170118163728,
          3.531992374483472,
          -1.7953061781458501,
          1.182064208848717,
          -1.0997315980323725,
          1.1575345593922473,
          -1.933714197775687,
          0.32584413636770715,
          -1.9008437670604665,
          -1.7616276051528394,
          0.25161153786699747,
          0.9303754316845816,
          -1.7034564494336808,
          0.6542352854013818,
          0.9663782208698392,
          -0.08406925989893413,
          0.8869768484682965,
          0.24598539222303978,
          -0.6462856060547739,
          -0.8223718437897126,
          3.6745921333132125,
          -0.7411071027031556,
          0.09199649271656066,
          2.297175422899088,
          -1.6598655202373211,
          1.0470649899074378,
          -0.38431957712999515,
          0.5535272080449898,
          1.429417654747046,
          0.6597926875759431,
          -0.5053869909437207,
          0.7891427687629277,
          -1.7704605209546063,
          0.5138940760185049,
          -0.17711055868284406,
          -1.7916535002579708,
          0.2057015424944182,
          0.21173402753639367,
          0.5374563856280444,
          -2.133392285106392,
          0.7930706276045645,
          -0.8432262826475481,
          1.7469255428229407,
          -1.4015187602280472,
          0.2146398387276361,
          0.9851934215075304,
          -2.062882744877862,
          -0.15907674262046093,
          -1.4489635657071636,
          0.4489008738041381,
          -1.8649632460180492,
          -1.5517107319673438,
          -0.3126239631912401,
          -2.065546515584487,
          0.12814928258791425,
          0.29273255337778187,
          -2.0548914327579904,
          -0.2158297562523974,
          -0.07442815894094566,
          0.918671147874094,
          -1.7371265842691854,
          -0.13838396763923536,
          -0.1247085814624219,
          -0.6775488946384423,
          -0.04854744821725995,
          -2.097431380566968,
          -0.39866207031567547,
          1.7346688992533763,
          -2.0627463100529377,
          -0.2488485728449846,
          -0.47125720904484925,
          -0.005065528294271085,
          0.5300841599472135,
          0.3026643134762812,
          1.3355689711111867,
          -1.7257708877497042,
          -1.787657844198035,
          -1.8236187487374595,
          1.5703439760922413,
          0.17563802382463725,
          -1.8907053155751716,
          -0.4050997616259989,
          -1.3421120989417497,
          1.1148031129640565,
          -0.1387604571132839,
          -0.03971487971752406,
          1.160052893482013,
          0.19911220534882193,
          2.8445060516712837,
          1.7476910164975097,
          -1.3938774241987852,
          1.5777148735125324,
          0.6233547674826962,
          -1.4704550323876706,
          -0.7619383226992708,
          0.7269942677424256,
          -1.266994731555334,
          -1.8049723537910916,
          2.4292751263335077,
          0.10581440136268142,
          -1.080755493595618,
          -2.1254009729865206,
          0.0653820539377322,
          2.466144281317023,
          -1.9935686551777207,
          -0.9400305998103156,
          0.14456313876582227,
          1.5402966280712984,
          -2.147962640495817,
          0.9592807724499517,
          1.5805361585566264,
          -1.1577709685222088,
          -1.9483649366621199,
          0.1594315892159313,
          2.118989864246565,
          0.9830817975329342,
          -0.3313291830952229,
          -0.35558535254645973,
          -0.620579377712508,
          -1.6350191230396622,
          -2.183923545035242,
          -0.4759095827119937,
          -2.034776717633386,
          -2.1280647436931437,
          1.0299758036797764,
          2.9760675331893696,
          2.4141699832998995,
          0.9557669575022426,
          1.5859110304289221,
          -0.8080348674492304,
          0.11765197955571703,
          1.3719986474644117,
          -0.4701741879725851,
          0.43201676860876226,
          -0.5761919667925467,
          -1.7451178963890577,
          0.22745201570162707,
          -0.004341993309273255,
          -1.4676385785698425,
          -0.37640065054258043,
          0.6470826376244941,
          -1.6108382827164691,
          3.3910661501369352,
          1.5658794276362804,
          -1.8701543526063726,
          -1.5295891963562895,
          0.41487582081540075,
          0.8246158282106901,
          1.3705544073775588,
          0.9508646234181389,
          -0.8202303149850563,
          -0.14360304381423816,
          0.5691137982030932,
          -0.6164910441493179,
          1.9523207594579255,
          0.38684784520736004,
          2.139619621499212,
          1.261090802003335,
          1.0072347355432059,
          0.5935349120922043,
          -0.7585662021478898,
          0.5235504702217634,
          0.8982481559261012,
          -1.9736405983348682,
          -1.6162391705171721,
          -0.8096543137620626,
          1.9792643306637294,
          2.0497700177711504,
          1.0863545493796885,
          0.9375307396687053,
          -1.815627436617587,
          -0.18541420846392298,
          0.8225421562479913,
          -1.8163249678765525,
          -0.5911119316820218,
          1.487137058338857,
          -1.9403736245422474,
          1.5666341005897393,
          0.758591234418423,
          0.09011561178443915,
          -0.7824912088530595,
          0.7114238001961187,
          0.19969019096196472,
          1.654787065942738,
          -1.9500431416360036,
          -0.7414814138505136,
          2.4179562896459963,
          -1.9368046715998903,
          -1.2988741056371376,
          0.6470558190945637,
          0.2222392460216627,
          0.7441499378294215,
          -2.058887088817927,
          1.1856267098470081,
          0.5769605608878015,
          0.1853370647500054,
          1.5602785896313085,
          -0.3155875760624943,
          0.4425056760792464,
          0.9294159555423047,
          -0.005408017394426922,
          -0.21608242355389326,
          0.9045438473318181,
          0.5001433852577124,
          0.10442927656683454,
          1.5280413705080864,
          0.32775598864789596,
          -0.29902258949804816,
          0.9889034256920164,
          -1.639726012307007,
          0.7325262693937553,
          0.48619785386438835,
          -1.8782820995511686,
          -0.5869573161006106,
          1.506711967367495,
          0.8203082418081262,
          1.8348407904585324,
          -1.756760209542153,
          2.020272285421547,
          0.4656095306212362,
          0.8264361312626334,
          -1.9793446194088675,
          0.3668680742754879,
          0.5860901480510157,
          -2.041436144399946,
          -1.858303819251489,
          1.1272397723202456,
          1.9185902441969545,
          0.952783729997816,
          0.10282398457389896,
          -0.9086052126846726,
          -0.010229817171841096,
          -1.302891180488529,
          -1.002412106822903,
          0.24097948838819516,
          -0.5427530445933518,
          0.5865410077329978,
          -2.0801972544709186,
          0.4491236870663883,
          -0.7443460702086895,
          1.581980332102627,
          0.13101816335639532,
          -0.5979931784072273,
          -0.9632419271399539,
          -2.1546220672623773,
          1.2351174753804277,
          0.7197806747356549,
          1.6368847568734244,
          -0.490229672947988,
          -1.601790829332036
         ],
         "xaxis": "x",
         "y": [
          0.5233354677940357,
          0.3084360810560924,
          0.5615849085785162,
          0.19390418274233703,
          0.8807462819127821,
          -0.7664340023910111,
          -1.3076597101776788,
          1.824432990371582,
          -3.0646377966823573,
          0.20002225795287987,
          0.3650087456937558,
          -0.6950956101036309,
          -0.5000138714701082,
          -0.41596914182649464,
          -0.6001637978888789,
          -0.7878687075287628,
          -1.3033461654179428,
          -0.4049298856412345,
          2.0045125836983924,
          -0.7984736458208003,
          -0.5809026147520339,
          1.0368207991515828,
          1.4304186052228405,
          1.0810377894020191,
          -1.5290898077460258,
          1.412440707012755,
          -1.8912487809383687,
          0.11031444356322219,
          0.20956632947725806,
          0.7410254604882786,
          0.5439026369679745,
          -0.3285690505350908,
          -1.4932365628932511,
          0.6220344611384463,
          -0.8708497708130188,
          -1.5861496623138487,
          0.5505368533343499,
          -0.10818212142740376,
          1.7495481552765402,
          0.053377415807800664,
          0.3979386751853131,
          -2.6068027998986145,
          -0.6987598833084692,
          -0.25203934685952467,
          0.25857618140748795,
          1.4079322098365359,
          0.5428585092563774,
          -1.0908553931704172,
          -0.4897574230758286,
          -0.0698186454612981,
          0.012976202404934443,
          -0.6364354795709912,
          0.06356725989786935,
          0.9083812697048125,
          1.3127752252006863,
          1.052652025203705,
          0.47163969527845345,
          1.7349237647784084,
          0.9764870546920594,
          -0.3318807574201276,
          -0.6768540529016418,
          -1.7422986596335122,
          0.36758307297384823,
          0.48733119466256,
          1.9242036619787815,
          -0.4905786256808154,
          1.1233165640112863,
          -0.3264197843846514,
          0.33829168063065845,
          -0.2685050236084598,
          -0.6918955903205435,
          -2.597761556412874,
          1.3165981109482194,
          0.2290249704612447,
          1.1471340701913977,
          0.4790898734270786,
          0.3514091960560811,
          0.8170756337229359,
          -0.6262868755225407,
          0.21993449885549163,
          -0.4091109272733878,
          0.28947303757047543,
          -0.40889397404222344,
          -0.40389309877039914,
          2.0469243272077575,
          -1.02930363479387,
          -0.010948244941685996,
          -0.42991276246808163,
          -0.5223370541568912,
          1.7196694812511104,
          -1.1375669275617664,
          -0.8486806522746824,
          0.059972388355262085,
          -0.9182163081553255,
          -1.51990488288137,
          0.8865430845826703,
          -1.1119649112789638,
          0.7985545330199201,
          0.9636099116838316,
          -2.369156366321537,
          2.3337312719393815,
          0.14936816380948847,
          -0.24340078382866737,
          0.533552699037985,
          -0.8428733654969673,
          0.5948011615437491,
          1.1370194566914034,
          2.596139080578971,
          1.240362118583742,
          0.3696194625038508,
          -0.9370228965176076,
          2.5034709276250764,
          3.0148075407131367,
          0.640057192584256,
          -1.8412270068237035,
          -1.0232238593070948,
          -2.189973475819362,
          -0.1434801108168739,
          1.623322441356982,
          -0.1727815269836488,
          -0.006384975485862064,
          -1.5683218099473513,
          0.3117008990473517,
          -2.3058419523467397,
          0.29721871077383116,
          1.7463035094992874,
          -0.40622827719040266,
          -0.3529491914237624,
          -2.0555449179906473,
          -0.6849470060551806,
          0.8573598689033828,
          -0.5396618993956737,
          -1.066631986690871,
          -0.4941012254061688,
          2.908771291470146,
          -0.046866026189091456,
          1.981806875929532,
          -0.9196522096176997,
          -0.6950956101036309,
          0.2585053345524983,
          1.7340355743485603,
          1.1850775059431382,
          -0.7004362228134114,
          -0.6232668970888612,
          0.8439596096998923,
          -1.7422986596335122,
          3.105848536663259,
          0.6190037156823665,
          0.5506862271259846,
          -0.817331391381767,
          -1.2229816657682353,
          0.32435666818327186,
          0.17841350686663887,
          -0.015501102378382878,
          1.1497917582584312,
          2.1765359211872237,
          -0.5007527859009748,
          1.3171159957131058,
          -1.8106226151947982,
          0.9547052132828852,
          0.6268194257657493,
          2.1303998413246363,
          0.6924289266410842,
          -1.5547181634985716,
          -0.6320883760565016,
          -1.752798209036252,
          1.2597959852773757,
          0.0706697697487682,
          0.22121992610523414,
          1.2783460792637327,
          -1.1538040066830184,
          2.271965917590196,
          1.33246867424613,
          2.1176541554586286,
          -0.0326488586196981,
          -0.18864919308845765,
          0.8179550391174902,
          0.32469442819467836,
          1.3245598321945713,
          0.8256018609618714,
          0.7043668491928161,
          -0.6262868755225407,
          0.5393618451380567,
          -0.8395688350970675,
          0.6862645062755118,
          1.5471611546345645,
          1.160426283505318,
          -0.9131792952772639,
          1.0780552742043465,
          -2.221343560000408,
          0.007594493387441212,
          -2.275678987433015,
          -0.583489604935495,
          -0.3681012090602659,
          -1.2397552714575184,
          0.2382015640539791,
          -0.6262868755225407,
          -1.051285436971632,
          -0.9844475527558286,
          -2.1792566147583052,
          1.9100176902205845,
          0.37912436014506556,
          -0.3750799859718497,
          -0.5244019609197934,
          1.9701432626066189,
          1.0868575668938651,
          -0.7366979226622987,
          -0.6804085465884716,
          -1.0348846630999702,
          0.7449923182045032,
          -0.9863989735217739,
          -0.6269937901891428,
          1.2255522291949343,
          1.8937211410016805,
          -0.35343793234882137,
          -2.844258494970662,
          -0.01022652326185326,
          -1.5299919391673784,
          0.2590145927445832,
          -2.0383601941861906,
          1.8533420859180696,
          -1.0646578471872448,
          -1.7699543772352513,
          -2.081350730277131,
          -0.4727018333514892,
          -1.4557835335221223,
          0.19953212062508013,
          0.7576948600212049,
          -0.6674944691712157,
          -0.5987200412121495,
          -0.6540226402468032,
          -0.6200977212576804,
          0.055747000400311865,
          0.2315772067494051,
          -0.6480994241533032,
          -0.5740495148847398,
          -1.0327953111382773,
          0.18509358422661387,
          0.3775796381887758,
          1.0413915351680276,
          -1.608977392584098,
          -0.39201538289234283,
          1.2464541295465754,
          0.9499736850199243,
          -0.07662221513230025,
          0.6407112295018578,
          0.11868703386945281,
          1.1830510209468978,
          0.6093813590030939,
          1.626700494495673,
          0.6693415950190349,
          0.889004987305549,
          -1.1261107083789597,
          1.9177113497583116,
          0.20546888697703664,
          0.5618740913365753,
          1.0593681932922643,
          0.3896637395074997,
          1.2927722976533056,
          0.9519896807462613,
          -0.7658122799045162,
          2.206851163460666,
          -1.3504202583186649,
          0.46288834436452425,
          -0.2183469039201344,
          -0.19926897029875715,
          1.171863969526841,
          -0.40389309877039914,
          -1.4760486812169595,
          -0.6783000430066308,
          -2.4859869143482185,
          -0.8704932009054449,
          -0.5325335506897013,
          -0.8497174391455178,
          1.556497884371057,
          -1.3372651516665996,
          0.925479671273666,
          -0.7479494299571731,
          0.6742565805346673,
          -0.9560951913413755,
          -0.6480994241533032,
          1.883768452289554,
          2.221323645634884,
          -1.2472539751991716,
          -1.3430598950634585,
          -0.2594198737769621,
          -1.2858581068167827,
          -0.5327639303200828,
          -2.46907449426193,
          0.33829168063065845,
          -0.013722775448492548,
          -0.41590427145634074,
          -1.421659236065261,
          -0.39345262041032264,
          0.9639084255744069,
          -1.1119649112789638,
          1.8217964897549144,
          -0.3628055778659767,
          -0.6521947608951207,
          -0.3768168989887074,
          -0.29208454286688945,
          -0.9247512522047698,
          -0.5205784252324984,
          -0.8747824856792114,
          0.41961976122002764,
          0.8194042608393164,
          -2.0166422724863082,
          -1.165607094997249,
          -0.7415874354528884,
          1.4646151378957757,
          1.1018945065685655,
          -0.4977029830663662,
          1.1841861211535554,
          -0.9061036833749301,
          0.3756779468012381,
          -1.6015564040092582,
          -0.5378826590009294,
          0.6889969080974557,
          -1.8884181169405858,
          -0.5508854256829734,
          1.6759018121599514,
          0.18250689234129247,
          -0.8938900333114906,
          -0.4727018333514892,
          -0.47107502533583484,
          0.9066875196290082,
          -0.963266298330577,
          0.7665475062993853,
          -0.3212686053937169,
          1.3138395646649834,
          -0.5576102703336822,
          -0.9799557553095141,
          1.0484680448905495,
          -0.4900206496467471,
          -0.4265258597229383,
          1.1422442701094428,
          -0.038414375990953924,
          2.237835025702816,
          -1.016650400315358,
          -0.46025542659455493,
          0.1798951510949309,
          -0.1120309627089254,
          1.7504114050670359,
          0.30736731482228125,
          -0.017948163403442838,
          1.059627271717057,
          -1.9992762389328587,
          0.10857099418076982,
          0.9737198938054572,
          0.04378563753513614,
          -0.6480994241533032,
          -0.8618712587820675,
          -1.0141298007141202,
          1.4320183553600174,
          -1.1221135153274144,
          1.537928121578984,
          -0.8352630470984558,
          0.19825551727886292,
          1.285530499278874,
          -0.4818136505291039,
          -0.28650561824331855,
          2.2513921515728907,
          0.20273037082795628,
          0.03620697178330308,
          1.0257396033747197,
          0.8852824714077643,
          -0.5244019609197934,
          0.08725941543939814,
          -0.40389309877039914,
          -2.04557149121922,
          1.4220062331237797,
          0.19011825010892355,
          -0.9734149023790272,
          -0.7749986152969546,
          1.6776232112622418,
          0.37953996605986984,
          -1.2110892953520465,
          2.291444321821662,
          -0.006101731216443201,
          -1.20714423694827,
          1.0274773829652568,
          2.031339805963531,
          -0.11382924523511105,
          -1.2975111061292284,
          -1.3076597101776788,
          -1.6327279355041333,
          0.9026627562006136,
          1.2994436193639833,
          0.2608284395609046,
          -0.562364434884504,
          1.950329929532731,
          1.9359108344070817,
          0.7184978287349048,
          -2.4790463896368413,
          0.8230924373232087,
          -0.5192845944305381,
          0.3526453514880211,
          -0.8486806522746824,
          0.009669075305869121,
          0.0021442708394211587,
          1.7743510355167718,
          -0.21865849389552464,
          0.14406471815039518,
          -0.7253973102666724,
          1.173559267754627,
          1.0615437223822812,
          -0.48569744117339986,
          -0.4911116799684072,
          -1.3076597101776788,
          -1.5523813874521848,
          1.458170492998688,
          -0.16369465696516766,
          0.39768737961548356,
          -0.5278787864246183,
          0.9877720124996989,
          0.47436358526516526,
          0.8718533997756411,
          0.49104790805410525,
          0.7614600487077061,
          0.4394229687394901,
          0.44880135716186,
          1.9970337125966542,
          0.27483526814840703,
          -0.8191416415195287,
          0.7069211773454183,
          -0.4559556992492019,
          0.07460917536461326,
          0.08396555117954264,
          0.43881846976772426,
          0.5317996580888169,
          -1.077470477549402,
          -1.0810405454705865,
          0.45047255706407213,
          0.703815338338021,
          -0.00683974726021445,
          -0.8065269071351289,
          -0.34696047609967146,
          0.6996402199889047,
          -0.6364354795709912,
          -0.40389309877039914,
          1.2083741482867425,
          -1.4969254890206654,
          -1.1639427329302603,
          -0.9837959241170945,
          -1.4018147781641068,
          -0.8451384339846509,
          2.027050641805133,
          1.689571689466766,
          1.0731715250894456,
          0.7181844334888892,
          2.1185245567246773,
          0.043446221258088315,
          1.222262698129707,
          0.37337772622872983,
          -1.575350185068218,
          0.05837209994205115,
          -1.1221135153274144,
          0.7657415899976138,
          1.6398550459486485,
          0.4454305336467437,
          -0.7853311719591579,
          1.6627693649340263,
          0.11589790387851713,
          -0.3590518976879669,
          -0.3851298357333428,
          0.1418822528918454,
          0.36431527682901327,
          -0.4215040084061746,
          0.9303321244380843,
          -0.6262868755225407,
          -0.8760455690503013,
          -0.590696278411836,
          0.35272032986087754,
          -0.4484450144960254,
          -0.8486806522746824,
          1.9403936266178763,
          -0.25030805659934713,
          0.04982378430681197,
          -0.3556728916763781,
          -0.28044700085135454,
          -0.6214004462998761,
          -0.40389309877039914,
          1.1060341182041622,
          -0.19298175501332648,
          -0.4956779176891522,
          -1.9941221823090471,
          -1.3180898972875257,
          -1.6701204273576196,
          0.43471539260716274,
          0.31217632603751216,
          0.0463724484321379,
          -0.5225304118437363,
          1.84870355567255,
          0.05878222383095568,
          -1.4938368801783657,
          0.5665764581720649,
          1.6156048886704037,
          1.723558462617413,
          -1.4278663200794859,
          -0.5829523270265603,
          -0.6897989549078694,
          -0.3486732734680352,
          -0.6062974803555764,
          -0.40389309877039914,
          1.7852151306108064,
          -1.3076597101776788,
          -0.8271510771043691,
          0.6751258653895361,
          0.7390685257697017,
          -0.8183908547711862,
          -1.2570267706080434,
          -1.0574632670494575,
          1.4500277746221781,
          -0.6644580851781358,
          0.42356964043697065,
          1.0632637875816155,
          0.8521635036521314,
          -2.2735622502934243,
          0.893869369882834,
          -0.022640473613303826,
          -2.2823286304261723,
          -0.6263686511830076,
          -0.6092251429809327,
          -0.42219781892292957,
          2.1786889846101096,
          0.6548469296114452,
          1.6291872873572757,
          2.327925638586596,
          0.6298301461988766,
          -1.0437561892359755,
          0.962796574079198,
          -0.32454109397784514,
          -0.3212686053937169,
          -1.0965998484840658,
          -0.376540597612525,
          -2.4718917111226757,
          -0.6849470060551806,
          0.4765302759315011,
          -0.7362910811521438,
          -1.323094988036483,
          -0.20626436243695018,
          -1.0577767418485475,
          0.14275052607095554,
          -0.9264187164286999,
          1.3616647145669578,
          -0.036439267122013674,
          1.3301935636711082,
          -0.7450979095333855,
          -0.6417788418664285,
          -0.3386449211448069,
          -0.8645699848119447,
          -0.4286516229893363,
          1.6066581524623875,
          -1.1119649112789638,
          1.3537861244455194,
          0.7097827614209231,
          -0.9004175651364752,
          -0.19164792606670744,
          1.036496567367816,
          1.934967466292275,
          2.135818269886883,
          0.5461174722159413,
          -1.51990488288137,
          0.5602170641340092,
          -2.0317940830551104,
          -0.19926897029875715,
          0.05644411509959627,
          0.612357754714313,
          -1.0522591013064577,
          -0.8776713010296009,
          -1.0187555616876671,
          0.25481223093177824,
          -0.6437686020199973,
          -0.41404170281884933,
          0.42091617400734066,
          -0.326314692865462,
          1.7014598710906743,
          0.025989361669855892,
          -0.015890328903437206,
          -0.3973029490446316,
          0.35834566105320764,
          0.10522199789585805,
          1.266057170483712,
          1.0883731600178506,
          1.879929386779043,
          -0.5379204772951979,
          0.1909037023758023,
          -0.7115598893517641,
          0.1964823820353122,
          -0.3903305032140653,
          0.11775947879163856,
          0.8174375119066576,
          -0.9360705654952584,
          0.2664195131207594,
          -0.012024947309942793,
          -0.7586073709257581,
          1.341190804199078,
          0.9694544454953757,
          -0.8704932009054449,
          1.2817244047080265,
          -1.2982284294864128,
          -0.4098163148638988,
          -0.2190143053213785,
          0.868409644537427,
          0.22360035638114029,
          -1.7422986596335122,
          -1.7487350542537854,
          -0.4174020514818899,
          -0.5854552381534376,
          -0.06372507487824736,
          2.8005408965273877,
          -1.4814302663886931,
          1.66690928891692,
          0.047379881940956846,
          -0.7196212224783843,
          0.09868624580871772,
          -0.6533439134799283,
          -0.9073407828073219,
          -0.7589966972077586,
          -0.8486806522746824,
          -0.8086444692886902,
          -0.44235469629497953,
          -1.2416641391113703,
          -0.8474715229664508,
          0.6313957519894466,
          0.5398220670615317,
          0.6215771869003545,
          -0.08577298773728903,
          -0.6213106020238747,
          -0.9779298020332794,
          -0.9695659811082058,
          1.0631202718604105,
          -0.006101731216443201,
          1.1975587388928102,
          1.5680997718018634,
          0.2335286401773677,
          1.9684336115482544,
          -1.4441311473353746,
          -0.2281648312089698,
          1.4827020148528804,
          0.8141538350338289,
          0.1057492998300666,
          -0.6476434481854595,
          -0.7362173944810599,
          0.019042384410435896,
          -1.4050912932191968,
          -0.4045619378996405,
          -0.7008162848702622,
          0.6537564100022739,
          -1.8940868890503952,
          -0.0713736521688369,
          0.2592329735991819,
          -0.0654481892588089,
          -1.859999735926576,
          -1.9197366378155176,
          -1.2083552765010785,
          1.650413722323267,
          1.0760696741264695,
          1.5875295921733346,
          0.8675130962302521,
          -0.6675417397646067,
          0.062390251745948526,
          0.15346302648140556,
          -2.9124224113140254,
          -2.4317086987362257,
          0.029957855538517313,
          -0.5688369151687057,
          0.23536997915707625,
          -0.2594845808303912,
          -1.3043952596409063,
          -0.8230032020905078,
          1.5304042783847414,
          -1.7243425341146075,
          -0.24927126972851182,
          1.6973786203342665,
          2.1469785632833642,
          -0.36248461060984377,
          0.32932721148729466,
          -1.7191300697989482,
          -0.7620028966501072,
          -0.7637087744287286,
          -1.5609778527381977,
          0.32633201377175475,
          0.43779668796366106,
          -0.4727018333514892,
          -0.3537835010231538,
          1.6274191245801184,
          -0.7394410382332632,
          -1.7460356672662645,
          -1.0191918138538318,
          0.42824308448173154,
          0.4645446256188255,
          0.7018065925119983,
          -0.7571883795860413,
          2.339581369582348,
          0.6527536209375527,
          0.5095217039509419,
          0.30823687134641786,
          1.1800870000637187,
          1.5871149917500798,
          2.416596693374807,
          2.3841979224391334,
          -0.1219578668257722,
          -0.5355185354817895,
          1.2019287116980661,
          -0.77619469654211,
          -0.03419803226074368,
          1.5416695313979105,
          1.578405715812881,
          -0.4358542514496118,
          -1.1984633871190145,
          -1.8994217327312288,
          -0.20491719670877798,
          -0.3235760100279908,
          -0.33936392485030425,
          -1.8298350608416676,
          1.2767675864601662,
          -1.4410503313034273,
          -0.880641804953895,
          1.157313135635403,
          -1.5549849266441975,
          -0.6940588232327954,
          -0.8997197385752727,
          0.029944108282147937,
          -0.45937394629732725,
          0.4156027076844375,
          0.4055967279356839,
          0.5424456600714451,
          -0.3337973710868934,
          -1.198578240330711,
          0.09369356466582297,
          2.6629882126642395,
          0.11733641118181998,
          1.2501337194786533,
          -0.5244019609197934,
          0.8655885138362206,
          0.7917489731845356,
          -0.9467773898543356,
          -0.4092179316816973,
          1.0443619572676701,
          0.3373848415605867,
          -1.5876768305916247,
          -0.7024396806978077,
          1.0581167158762874,
          -0.6795674196119978,
          0.14701768007797358,
          -1.0203410561679438
         ],
         "yaxis": "y"
        }
       ],
       "layout": {
        "autosize": true,
        "coloraxis": {
         "colorbar": {
          "title": {
           "text": "color"
          }
         },
         "colorscale": [
          [
           0,
           "#0d0887"
          ],
          [
           0.1111111111111111,
           "#46039f"
          ],
          [
           0.2222222222222222,
           "#7201a8"
          ],
          [
           0.3333333333333333,
           "#9c179e"
          ],
          [
           0.4444444444444444,
           "#bd3786"
          ],
          [
           0.5555555555555556,
           "#d8576b"
          ],
          [
           0.6666666666666666,
           "#ed7953"
          ],
          [
           0.7777777777777778,
           "#fb9f3a"
          ],
          [
           0.8888888888888888,
           "#fdca26"
          ],
          [
           1,
           "#f0f921"
          ]
         ]
        },
        "legend": {
         "tracegroupgap": 0
        },
        "margin": {
         "t": 60
        },
        "template": {
         "data": {
          "bar": [
           {
            "error_x": {
             "color": "#2a3f5f"
            },
            "error_y": {
             "color": "#2a3f5f"
            },
            "marker": {
             "line": {
              "color": "#E5ECF6",
              "width": 0.5
             }
            },
            "type": "bar"
           }
          ],
          "barpolar": [
           {
            "marker": {
             "line": {
              "color": "#E5ECF6",
              "width": 0.5
             }
            },
            "type": "barpolar"
           }
          ],
          "carpet": [
           {
            "aaxis": {
             "endlinecolor": "#2a3f5f",
             "gridcolor": "white",
             "linecolor": "white",
             "minorgridcolor": "white",
             "startlinecolor": "#2a3f5f"
            },
            "baxis": {
             "endlinecolor": "#2a3f5f",
             "gridcolor": "white",
             "linecolor": "white",
             "minorgridcolor": "white",
             "startlinecolor": "#2a3f5f"
            },
            "type": "carpet"
           }
          ],
          "choropleth": [
           {
            "colorbar": {
             "outlinewidth": 0,
             "ticks": ""
            },
            "type": "choropleth"
           }
          ],
          "contour": [
           {
            "colorbar": {
             "outlinewidth": 0,
             "ticks": ""
            },
            "colorscale": [
             [
              0,
              "#0d0887"
             ],
             [
              0.1111111111111111,
              "#46039f"
             ],
             [
              0.2222222222222222,
              "#7201a8"
             ],
             [
              0.3333333333333333,
              "#9c179e"
             ],
             [
              0.4444444444444444,
              "#bd3786"
             ],
             [
              0.5555555555555556,
              "#d8576b"
             ],
             [
              0.6666666666666666,
              "#ed7953"
             ],
             [
              0.7777777777777778,
              "#fb9f3a"
             ],
             [
              0.8888888888888888,
              "#fdca26"
             ],
             [
              1,
              "#f0f921"
             ]
            ],
            "type": "contour"
           }
          ],
          "contourcarpet": [
           {
            "colorbar": {
             "outlinewidth": 0,
             "ticks": ""
            },
            "type": "contourcarpet"
           }
          ],
          "heatmap": [
           {
            "colorbar": {
             "outlinewidth": 0,
             "ticks": ""
            },
            "colorscale": [
             [
              0,
              "#0d0887"
             ],
             [
              0.1111111111111111,
              "#46039f"
             ],
             [
              0.2222222222222222,
              "#7201a8"
             ],
             [
              0.3333333333333333,
              "#9c179e"
             ],
             [
              0.4444444444444444,
              "#bd3786"
             ],
             [
              0.5555555555555556,
              "#d8576b"
             ],
             [
              0.6666666666666666,
              "#ed7953"
             ],
             [
              0.7777777777777778,
              "#fb9f3a"
             ],
             [
              0.8888888888888888,
              "#fdca26"
             ],
             [
              1,
              "#f0f921"
             ]
            ],
            "type": "heatmap"
           }
          ],
          "heatmapgl": [
           {
            "colorbar": {
             "outlinewidth": 0,
             "ticks": ""
            },
            "colorscale": [
             [
              0,
              "#0d0887"
             ],
             [
              0.1111111111111111,
              "#46039f"
             ],
             [
              0.2222222222222222,
              "#7201a8"
             ],
             [
              0.3333333333333333,
              "#9c179e"
             ],
             [
              0.4444444444444444,
              "#bd3786"
             ],
             [
              0.5555555555555556,
              "#d8576b"
             ],
             [
              0.6666666666666666,
              "#ed7953"
             ],
             [
              0.7777777777777778,
              "#fb9f3a"
             ],
             [
              0.8888888888888888,
              "#fdca26"
             ],
             [
              1,
              "#f0f921"
             ]
            ],
            "type": "heatmapgl"
           }
          ],
          "histogram": [
           {
            "marker": {
             "colorbar": {
              "outlinewidth": 0,
              "ticks": ""
             }
            },
            "type": "histogram"
           }
          ],
          "histogram2d": [
           {
            "colorbar": {
             "outlinewidth": 0,
             "ticks": ""
            },
            "colorscale": [
             [
              0,
              "#0d0887"
             ],
             [
              0.1111111111111111,
              "#46039f"
             ],
             [
              0.2222222222222222,
              "#7201a8"
             ],
             [
              0.3333333333333333,
              "#9c179e"
             ],
             [
              0.4444444444444444,
              "#bd3786"
             ],
             [
              0.5555555555555556,
              "#d8576b"
             ],
             [
              0.6666666666666666,
              "#ed7953"
             ],
             [
              0.7777777777777778,
              "#fb9f3a"
             ],
             [
              0.8888888888888888,
              "#fdca26"
             ],
             [
              1,
              "#f0f921"
             ]
            ],
            "type": "histogram2d"
           }
          ],
          "histogram2dcontour": [
           {
            "colorbar": {
             "outlinewidth": 0,
             "ticks": ""
            },
            "colorscale": [
             [
              0,
              "#0d0887"
             ],
             [
              0.1111111111111111,
              "#46039f"
             ],
             [
              0.2222222222222222,
              "#7201a8"
             ],
             [
              0.3333333333333333,
              "#9c179e"
             ],
             [
              0.4444444444444444,
              "#bd3786"
             ],
             [
              0.5555555555555556,
              "#d8576b"
             ],
             [
              0.6666666666666666,
              "#ed7953"
             ],
             [
              0.7777777777777778,
              "#fb9f3a"
             ],
             [
              0.8888888888888888,
              "#fdca26"
             ],
             [
              1,
              "#f0f921"
             ]
            ],
            "type": "histogram2dcontour"
           }
          ],
          "mesh3d": [
           {
            "colorbar": {
             "outlinewidth": 0,
             "ticks": ""
            },
            "type": "mesh3d"
           }
          ],
          "parcoords": [
           {
            "line": {
             "colorbar": {
              "outlinewidth": 0,
              "ticks": ""
             }
            },
            "type": "parcoords"
           }
          ],
          "pie": [
           {
            "automargin": true,
            "type": "pie"
           }
          ],
          "scatter": [
           {
            "marker": {
             "colorbar": {
              "outlinewidth": 0,
              "ticks": ""
             }
            },
            "type": "scatter"
           }
          ],
          "scatter3d": [
           {
            "line": {
             "colorbar": {
              "outlinewidth": 0,
              "ticks": ""
             }
            },
            "marker": {
             "colorbar": {
              "outlinewidth": 0,
              "ticks": ""
             }
            },
            "type": "scatter3d"
           }
          ],
          "scattercarpet": [
           {
            "marker": {
             "colorbar": {
              "outlinewidth": 0,
              "ticks": ""
             }
            },
            "type": "scattercarpet"
           }
          ],
          "scattergeo": [
           {
            "marker": {
             "colorbar": {
              "outlinewidth": 0,
              "ticks": ""
             }
            },
            "type": "scattergeo"
           }
          ],
          "scattergl": [
           {
            "marker": {
             "colorbar": {
              "outlinewidth": 0,
              "ticks": ""
             }
            },
            "type": "scattergl"
           }
          ],
          "scattermapbox": [
           {
            "marker": {
             "colorbar": {
              "outlinewidth": 0,
              "ticks": ""
             }
            },
            "type": "scattermapbox"
           }
          ],
          "scatterpolar": [
           {
            "marker": {
             "colorbar": {
              "outlinewidth": 0,
              "ticks": ""
             }
            },
            "type": "scatterpolar"
           }
          ],
          "scatterpolargl": [
           {
            "marker": {
             "colorbar": {
              "outlinewidth": 0,
              "ticks": ""
             }
            },
            "type": "scatterpolargl"
           }
          ],
          "scatterternary": [
           {
            "marker": {
             "colorbar": {
              "outlinewidth": 0,
              "ticks": ""
             }
            },
            "type": "scatterternary"
           }
          ],
          "surface": [
           {
            "colorbar": {
             "outlinewidth": 0,
             "ticks": ""
            },
            "colorscale": [
             [
              0,
              "#0d0887"
             ],
             [
              0.1111111111111111,
              "#46039f"
             ],
             [
              0.2222222222222222,
              "#7201a8"
             ],
             [
              0.3333333333333333,
              "#9c179e"
             ],
             [
              0.4444444444444444,
              "#bd3786"
             ],
             [
              0.5555555555555556,
              "#d8576b"
             ],
             [
              0.6666666666666666,
              "#ed7953"
             ],
             [
              0.7777777777777778,
              "#fb9f3a"
             ],
             [
              0.8888888888888888,
              "#fdca26"
             ],
             [
              1,
              "#f0f921"
             ]
            ],
            "type": "surface"
           }
          ],
          "table": [
           {
            "cells": {
             "fill": {
              "color": "#EBF0F8"
             },
             "line": {
              "color": "white"
             }
            },
            "header": {
             "fill": {
              "color": "#C8D4E3"
             },
             "line": {
              "color": "white"
             }
            },
            "type": "table"
           }
          ]
         },
         "layout": {
          "annotationdefaults": {
           "arrowcolor": "#2a3f5f",
           "arrowhead": 0,
           "arrowwidth": 1
          },
          "autotypenumbers": "strict",
          "coloraxis": {
           "colorbar": {
            "outlinewidth": 0,
            "ticks": ""
           }
          },
          "colorscale": {
           "diverging": [
            [
             0,
             "#8e0152"
            ],
            [
             0.1,
             "#c51b7d"
            ],
            [
             0.2,
             "#de77ae"
            ],
            [
             0.3,
             "#f1b6da"
            ],
            [
             0.4,
             "#fde0ef"
            ],
            [
             0.5,
             "#f7f7f7"
            ],
            [
             0.6,
             "#e6f5d0"
            ],
            [
             0.7,
             "#b8e186"
            ],
            [
             0.8,
             "#7fbc41"
            ],
            [
             0.9,
             "#4d9221"
            ],
            [
             1,
             "#276419"
            ]
           ],
           "sequential": [
            [
             0,
             "#0d0887"
            ],
            [
             0.1111111111111111,
             "#46039f"
            ],
            [
             0.2222222222222222,
             "#7201a8"
            ],
            [
             0.3333333333333333,
             "#9c179e"
            ],
            [
             0.4444444444444444,
             "#bd3786"
            ],
            [
             0.5555555555555556,
             "#d8576b"
            ],
            [
             0.6666666666666666,
             "#ed7953"
            ],
            [
             0.7777777777777778,
             "#fb9f3a"
            ],
            [
             0.8888888888888888,
             "#fdca26"
            ],
            [
             1,
             "#f0f921"
            ]
           ],
           "sequentialminus": [
            [
             0,
             "#0d0887"
            ],
            [
             0.1111111111111111,
             "#46039f"
            ],
            [
             0.2222222222222222,
             "#7201a8"
            ],
            [
             0.3333333333333333,
             "#9c179e"
            ],
            [
             0.4444444444444444,
             "#bd3786"
            ],
            [
             0.5555555555555556,
             "#d8576b"
            ],
            [
             0.6666666666666666,
             "#ed7953"
            ],
            [
             0.7777777777777778,
             "#fb9f3a"
            ],
            [
             0.8888888888888888,
             "#fdca26"
            ],
            [
             1,
             "#f0f921"
            ]
           ]
          },
          "colorway": [
           "#636efa",
           "#EF553B",
           "#00cc96",
           "#ab63fa",
           "#FFA15A",
           "#19d3f3",
           "#FF6692",
           "#B6E880",
           "#FF97FF",
           "#FECB52"
          ],
          "font": {
           "color": "#2a3f5f"
          },
          "geo": {
           "bgcolor": "white",
           "lakecolor": "white",
           "landcolor": "#E5ECF6",
           "showlakes": true,
           "showland": true,
           "subunitcolor": "white"
          },
          "hoverlabel": {
           "align": "left"
          },
          "hovermode": "closest",
          "mapbox": {
           "style": "light"
          },
          "paper_bgcolor": "white",
          "plot_bgcolor": "#E5ECF6",
          "polar": {
           "angularaxis": {
            "gridcolor": "white",
            "linecolor": "white",
            "ticks": ""
           },
           "bgcolor": "#E5ECF6",
           "radialaxis": {
            "gridcolor": "white",
            "linecolor": "white",
            "ticks": ""
           }
          },
          "scene": {
           "xaxis": {
            "backgroundcolor": "#E5ECF6",
            "gridcolor": "white",
            "gridwidth": 2,
            "linecolor": "white",
            "showbackground": true,
            "ticks": "",
            "zerolinecolor": "white"
           },
           "yaxis": {
            "backgroundcolor": "#E5ECF6",
            "gridcolor": "white",
            "gridwidth": 2,
            "linecolor": "white",
            "showbackground": true,
            "ticks": "",
            "zerolinecolor": "white"
           },
           "zaxis": {
            "backgroundcolor": "#E5ECF6",
            "gridcolor": "white",
            "gridwidth": 2,
            "linecolor": "white",
            "showbackground": true,
            "ticks": "",
            "zerolinecolor": "white"
           }
          },
          "shapedefaults": {
           "line": {
            "color": "#2a3f5f"
           }
          },
          "ternary": {
           "aaxis": {
            "gridcolor": "white",
            "linecolor": "white",
            "ticks": ""
           },
           "baxis": {
            "gridcolor": "white",
            "linecolor": "white",
            "ticks": ""
           },
           "bgcolor": "#E5ECF6",
           "caxis": {
            "gridcolor": "white",
            "linecolor": "white",
            "ticks": ""
           }
          },
          "title": {
           "x": 0.05
          },
          "xaxis": {
           "automargin": true,
           "gridcolor": "white",
           "linecolor": "white",
           "ticks": "",
           "title": {
            "standoff": 15
           },
           "zerolinecolor": "white",
           "zerolinewidth": 2
          },
          "yaxis": {
           "automargin": true,
           "gridcolor": "white",
           "linecolor": "white",
           "ticks": "",
           "title": {
            "standoff": 15
           },
           "zerolinecolor": "white",
           "zerolinewidth": 2
          }
         }
        },
        "xaxis": {
         "anchor": "y",
         "autorange": true,
         "domain": [
          0,
          1
         ],
         "range": [
          -2.5600912176961748,
          4.5348252507150395
         ],
         "title": {
          "text": "0"
         },
         "type": "linear"
        },
        "yaxis": {
         "anchor": "x",
         "autorange": true,
         "domain": [
          0,
          1
         ],
         "range": [
          -3.502140050519938,
          3.5433507905008397
         ],
         "title": {
          "text": "1"
         },
         "type": "linear"
        }
       }
      },
      "image/png": "[encoded data removed]",
      "text/html": [
       "<div>                            <div id=\"a4d00bee-918d-4297-a3b1-30d4f92718bd\" class=\"plotly-graph-div\" style=\"height:525px; width:100%;\"></div>            <script type=\"text/javascript\">                require([\"plotly\"], function(Plotly) {                    window.PLOTLYENV=window.PLOTLYENV || {};                                    if (document.getElementById(\"a4d00bee-918d-4297-a3b1-30d4f92718bd\")) {                    Plotly.newPlot(                        \"a4d00bee-918d-4297-a3b1-30d4f92718bd\",                        [{\"hovertemplate\": \"0=%{x}<br>1=%{y}<br>color=%{marker.color}<extra></extra>\", \"legendgroup\": \"\", \"marker\": {\"color\": [1, 1, 2, 1, 0, 0, 2, 1, 0, 1, 2, 2, 2, 2, 0, 2, 0, 2, 1, 2, 0, 1, 1, 1, 0, 1, 2, 2, 1, 1, 1, 0, 0, 1, 2, 0, 2, 0, 1, 2, 2, 0, 0, 0, 2, 1, 1, 0, 0, 0, 2, 2, 0, 1, 1, 1, 1, 1, 1, 2, 0, 2, 2, 2, 1, 2, 1, 0, 2, 2, 2, 0, 1, 1, 1, 1, 2, 1, 2, 2, 0, 0, 2, 2, 1, 0, 2, 0, 2, 1, 0, 2, 2, 2, 2, 1, 2, 2, 1, 0, 1, 0, 0, 1, 0, 1, 1, 1, 1, 2, 2, 1, 1, 1, 0, 0, 0, 2, 1, 0, 0, 0, 0, 0, 2, 1, 2, 0, 0, 2, 1, 2, 2, 2, 1, 2, 1, 0, 2, 1, 1, 1, 0, 2, 0, 2, 1, 1, 1, 0, 2, 1, 2, 0, 1, 1, 0, 1, 0, 1, 0, 1, 2, 0, 0, 0, 1, 2, 2, 1, 0, 1, 1, 1, 2, 2, 1, 0, 1, 1, 2, 2, 1, 2, 1, 1, 1, 0, 1, 0, 2, 0, 2, 2, 0, 2, 2, 2, 0, 0, 1, 1, 2, 2, 1, 1, 0, 2, 2, 1, 2, 2, 1, 1, 2, 0, 2, 0, 0, 0, 1, 0, 0, 0, 2, 0, 2, 1, 0, 2, 2, 2, 2, 2, 2, 2, 0, 0, 2, 1, 0, 2, 1, 1, 2, 0, 0, 1, 1, 1, 1, 1, 0, 1, 1, 1, 1, 2, 1, 1, 0, 1, 0, 1, 2, 2, 1, 2, 0, 0, 0, 2, 2, 2, 1, 0, 1, 0, 1, 2, 2, 1, 1, 0, 0, 2, 0, 0, 0, 2, 2, 0, 0, 2, 1, 2, 1, 0, 2, 2, 2, 2, 2, 2, 2, 1, 0, 0, 0, 1, 1, 2, 1, 0, 2, 0, 2, 1, 0, 0, 1, 1, 0, 2, 0, 1, 2, 1, 2, 1, 2, 0, 1, 0, 2, 1, 2, 1, 0, 0, 2, 0, 1, 2, 2, 1, 0, 2, 1, 0, 2, 0, 0, 1, 2, 1, 2, 0, 1, 2, 2, 1, 2, 1, 2, 1, 2, 1, 2, 0, 1, 1, 2, 0, 1, 1, 0, 1, 2, 2, 1, 1, 2, 2, 2, 0, 1, 1, 0, 0, 1, 1, 1, 0, 2, 2, 1, 2, 0, 1, 1, 0, 0, 0, 1, 1, 0, 2, 2, 0, 1, 2, 2, 0, 1, 2, 1, 1, 1, 1, 2, 1, 0, 0, 1, 2, 1, 0, 1, 2, 0, 2, 1, 1, 2, 2, 2, 1, 2, 2, 1, 0, 0, 2, 0, 2, 1, 1, 1, 2, 1, 0, 1, 1, 0, 0, 2, 1, 1, 1, 0, 1, 2, 2, 2, 0, 1, 2, 1, 2, 2, 0, 1, 2, 2, 1, 2, 2, 2, 0, 2, 2, 1, 2, 0, 0, 0, 0, 1, 0, 0, 2, 1, 2, 0, 1, 1, 1, 0, 2, 0, 2, 0, 2, 1, 2, 2, 1, 1, 2, 0, 0, 1, 0, 1, 1, 1, 0, 1, 1, 0, 2, 0, 2, 1, 1, 1, 1, 1, 2, 1, 2, 2, 0, 0, 0, 2, 1, 2, 0, 2, 0, 0, 2, 1, 2, 1, 2, 2, 2, 2, 0, 1, 2, 1, 1, 0, 2, 1, 1, 1, 1, 2, 1, 0, 2, 1, 1, 0, 0, 0, 0, 2, 2, 2, 0, 1, 2, 2, 2, 1, 1, 1, 1, 1, 0, 0, 2, 0, 0, 2, 1, 0, 2, 2, 0, 1, 2, 2, 1, 0, 2, 2, 1, 0, 2, 0, 0, 2, 2, 1, 0, 1, 2, 2, 2, 2, 2, 2, 2, 2, 0, 0, 0, 1, 1, 2, 0, 0, 2, 0, 1, 2, 1, 1, 2, 1, 0, 2, 1, 1, 2, 2, 0, 0, 0, 0, 2, 1, 0, 2, 0, 0, 0, 0, 0, 1, 1, 1, 1, 2, 2, 2, 0, 0, 0, 0, 2, 2, 0, 2, 1, 0, 2, 1, 1, 0, 2, 0, 0, 0, 2, 2, 0, 2, 2, 1, 0, 0, 2, 1, 1, 1, 0, 1, 1, 1, 1, 1, 1, 1, 1, 0, 0, 1, 0, 2, 1, 1, 2, 2, 0, 0, 0, 2, 0, 1, 0, 2, 1, 0, 2, 2, 0, 0, 1, 1, 2, 2, 2, 2, 1, 2, 1, 2, 1, 1, 0, 0, 1, 2, 2, 0, 1, 0, 2, 2], \"coloraxis\": \"coloraxis\", \"symbol\": \"circle\"}, \"mode\": \"markers\", \"name\": \"\", \"orientation\": \"v\", \"showlegend\": false, \"type\": \"scatter\", \"x\": [0.4860306362733675, 0.009959051942333876, -1.035413435738202, -0.22685512119336604, 2.861085405747436, 0.6022643709672901, -1.9008437670604665, 0.07713576513273805, 3.517939426551413, 0.17177188157126808, -1.0566733170507883, -1.9873359315287393, -0.2848056025435207, -1.5798067827968294, 0.6451396527012365, -1.9833402754688039, 1.283836274364818, -1.8796139849044815, 0.019206632777061087, -1.3358899280759118, 0.22660592458047032, 0.054611498540170916, 1.0909121433842508, -0.9443198691061269, 1.7713877395994286, -0.06547669528887891, -0.7917763361010358, -0.3884170837925369, 0.6455744153382399, 0.2953148300353304, -0.08518118761883348, 1.6427177118844802, 0.9965175130542566, 0.7466814258749411, -0.7657491168286436, 0.34440971893126093, -1.7690918327486744, 0.3391617352635495, -0.7880851000949549, -1.3533953919332753, -0.7339526053998048, 1.1171021125387615, 0.30837676169292483, 0.38731182257480484, -1.1420655489661333, 0.060885419353572, 0.3660617663396258, 0.6595796502015283, 1.313535878242475, 0.6292055049145984, -1.8661586965464363, -1.8381891041268839, 1.938977280787299, 0.5203580833365111, -0.8436689265893041, -0.5898367420073419, 0.6841614199434597, -0.5673283969910062, -0.2475138608226344, -0.2000837967190726, 1.2237515000548687, -2.147962640495817, -1.241431475682359, -0.9040594926669512, 2.8737729042766196, -1.062037699116638, -0.5882062817976431, 0.05842327971163044, -1.9656794462551757, -1.7883277222597038, -1.2522266702212916, 0.5099484072843351, -0.25961773082272543, -0.33654056429666956, 0.11775559257591359, -0.24719847047840957, -0.6381242759549633, -0.4999851320231131, -1.9842454577045368, -1.4343589166407984, 1.288072680620124, 1.1843592043175486, -0.7651099946516638, -1.933714197775687, 0.3640238255214961, 0.4314545024612482, -0.2552366935873865, 0.6935322665251293, -0.4530597757105235, 0.5334566635656239, 1.4372003229185797, -2.034776717633386, -1.9536924780753673, -1.1069515017795741, -2.097431380566968, -0.5747203230053113, -2.0548914327579904, -0.9967015570079951, 0.28196449869240325, 3.008872829624124, 0.5720160590370532, 1.0055688948079649, 0.44953926148123396, 0.06435751746408647, 0.14777385160308154, 0.9979282380496174, 2.8003589027796965, 0.4267844290480662, 2.9703148492614107, -1.1389179702009142, -1.8164347806443064, 0.27269720788714064, 0.5466064852683264, -0.692990170555759, 0.6329116172757304, 1.3417870457970353, 4.158657578054107, -0.33073419026475187, 3.4073827341343295, 0.9582414003952664, 2.1339833446163143, 0.8010857891618446, 1.1031956241693974, 3.708088503943767, -1.8182912073242112, -0.6957544740323224, -1.8840342311744889, 0.17127401790980634, 0.4336473693060452, -2.133392285106392, 0.8766705478855248, -0.10546498565277335, -1.9352451365759231, -0.34331351988229214, 0.5031299438859448, -1.3473825758528848, 0.16812085086149473, 0.8586376936194974, -1.9873359315287393, -0.23743829598225194, 2.1179141586882313, 2.6113814283925563, 0.8862779091546016, -0.592251520913406, 2.292348922328803, -2.147962640495817, 0.3109724321258693, 1.1575705834071837, 0.4241261678115658, 0.4467653060450583, -1.9174421660247212, 0.6086440569219117, -0.5972199824697508, 2.12232169937153, 0.08533947391726156, 0.7645990575638472, 0.7811815473540781, -0.2558871748897043, 2.8113049742387193, 0.7626008447726246, 2.267407415552345, 1.6463789948197491, -1.6285272453417536, 2.4505917987683143, 1.0233118216108028, 3.6448064605002815, -0.07894903649882183, -0.24792706745107565, -0.392763794837526, -0.7728873298147352, 0.13343157492503918, 0.4473229414957077, -0.14529495462677078, 0.28989171287623616, -0.3066576633591547, -0.5595143326872312, 1.1034725798231397, 2.0493612152048923, 1.309940557283809, 0.6323943563090595, -1.0820909249448374, -1.9842454577045368, -0.34505418510488706, -2.1267328583398326, 1.9770393442346605, 0.275828777535919, 0.1359960251338478, 0.05514287828623858, -0.914243625766411, 0.21632867859123653, -0.6487371732357453, 1.8600396008056606, -1.338734314573365, -1.5922010027658353, 1.4533576088661704, -1.5734949943644188, -1.9842454577045368, -1.824697064903913, 0.2642501358301964, 1.9314045593884928, 1.146010755303602, 0.7293202603771891, -1.9659707698320783, -2.0801972544709186, 0.6027496893073975, 1.3774891719559592, 0.9820493345189091, -0.13389787645459358, -0.5618797021287626, 1.3447728625404556, -1.545540497961689, -1.6643686765114998, 1.6270807187743932, -0.021704675682796045, -1.95194961926579, 2.7676522691064718, -1.7083293183374708, 2.2930610382889607, 1.5490931616527364, 1.4749571657690759, -0.29045356770075903, 2.181558380689157, 1.4914210828595449, 0.6738249039523784, -1.9368046715998903, 2.5228960631119075, -0.8729547518322326, -0.3084504866389298, 1.7744072383841272, -1.2090583537841222, -2.1347241704597044, -1.8216002683050767, -1.7477816670956818, -1.5179794709544463, -2.0748697130576708, -1.7983404250463653, 1.579578947782623, 1.2285413427507603, -0.8746701940091933, 0.6386081136609099, -0.1449976514073499, -1.214708418830835, -0.8727517508325833, -0.9512806432830593, -0.6174797727961212, 2.3159156640561513, 4.074775353540079, -0.5924056516063295, 0.6418409951472481, 0.47427854663376756, 1.148480444984284, 0.32538428948668985, 1.5800470562344011, 0.5745063442937582, 0.5965300916948441, -0.050748725909920786, 0.7165413980151127, -0.6175349556051, 1.5070290671889752, 0.19825877030177572, 0.5674365093909944, 0.16655214833638043, 1.7447422175047067, 1.0343915405999846, -1.9417055098955593, -2.0627463100529377, 0.025174203980941574, -1.933714197775687, 2.118420155765398, 1.2655688408515644, 2.77578629767856, -2.1254009729865206, -1.8974919151991168, -1.9806765047621802, -0.15061797256216608, 0.3272978994244951, -0.3560053429516628, 0.221271944404747, -0.21509242732239156, -0.09372841266155221, -2.0748697130576708, 0.3257316882282994, 0.05164262565513535, 0.7329676593907537, 0.6187424809468532, -1.794317270964595, -0.12791727996936778, 0.2080810638943183, 2.187432212110043, -1.9656794462551757, -2.0707376221728104, 0.9516026977795601, 2.646357623178744, -1.102066895829718, 1.8339077133952417, -2.0548914327579904, -0.47710776782846204, 0.5201625793855487, -1.6267412622415385, -1.4216584120169757, -0.978893955529289, -1.3781195748562596, -0.09078541166742526, -1.781903352982561, -1.0028373663053713, 0.3325373713267667, 0.713880550191862, 1.8594280429949321, 0.6704747086196603, 0.4329140963324352, 1.712346191573049, -1.8756183288445452, -0.3813149078606821, 0.007371000833264666, -1.2382859839549716, 0.24781666753268647, -1.6947431156481239, -0.582982499317176, 1.4695052573468967, 0.38815446373857415, -0.25844543263406317, 0.893908407415391, 2.2011143905420947, -1.9368046715998903, 1.2587131850420998, 0.1799031787115852, -2.1214053169265843, 1.980886217367359, -1.7916535002579708, -0.4839505766862533, -0.10256708812808517, 2.7959945888768796, 0.17288558413922933, 0.6819161838267231, -0.6729590705913934, 0.5665340570753356, -1.2508815982677557, 0.5005133997000553, 0.5410344948496804, 1.451963658102227, -1.2745923851335164, 0.4945465008982535, 1.8851178642679762, -1.9643475609018632, -1.8648268111931245, 0.14394011946193394, 0.04041438804873044, -1.1577554863027772, -0.5537734449878452, 0.7465192429802336, -2.0748697130576708, 1.4424604218719272, 1.188786348555056, 0.1271105112396027, -1.9088350791803383, -0.9801695573272767, -1.548787771532864, 1.2247416564404967, 0.01633687062022149, -1.8448485308934441, -1.336691743568908, 0.4737063681051725, -0.794556771438392, 0.3240464335408947, -1.2602154888468051, 0.012018560145381295, -2.0801972544709186, -0.08011064136926378, -1.933714197775687, 0.22250632272746407, 0.2584033650405146, -0.006283960693860801, -1.9753489633489316, 1.5257039421621905, -0.14990897195308597, 0.9392211211422945, 0.9655113534627892, 0.27965844523046096, -1.7451178963890577, -0.3506764094524156, 0.3451656461536623, 0.12131666050205385, -0.18083181345940036, -2.046900120638118, -1.9008437670604665, 0.22804684806065892, -0.8060327772650595, -0.7156085109905825, 1.2339996499676267, 0.38958584566707244, 0.38607378438051126, 0.7896465705158817, 0.3260132005472096, 0.7050793258717422, -0.9931412367531617, -2.084111471749599, -0.10867941771757168, -2.034776717633386, 0.9762569785401429, -0.020951320950630948, -0.8457670170495708, 1.9003725229716322, 1.8412898421007227, 0.03828402119786366, -0.02786890821915797, 0.013540494178189607, 2.101031795266378, -2.0237094930281687, -1.9008437670604665, 4.0136811095511264, 1.7281682557031068, -0.23506779799828845, -0.892467258275912, -0.012160885088787276, 0.8853380992795048, -1.1530629719557204, 0.3894195274771342, 0.11522588637832086, -0.04880914214569811, 1.2933788141440026, -0.7838674408632031, 0.2066137969821977, 2.886367839133337, 1.796556775606059, -0.2431950564084925, -1.328210625208847, 0.1612486380178317, 1.3028628645630003, 0.006223367992173186, -0.809073374232297, 0.8538407580292837, -2.0562233181113028, -0.07366384151879281, 0.21531599598464274, -0.6375666453516937, -1.3939011765491631, -0.5911374375441651, -0.38922678810156314, -1.8381891041268839, -1.933714197775687, 0.7469376488220854, 0.3758448467420675, 0.6348653249098153, -0.4608698566622948, 0.599544080260769, -1.6720372993661219, 0.6813068847308856, 0.26609317614941724, 0.14369114790811155, -1.2347336985143083, 1.8255549255591195, 1.3904243545842492, 0.8830346952664718, 0.8776448686942513, 0.5137689291786527, 1.5495027806019266, -1.9088350791803383, -0.05234103993503034, 0.27968762430787003, 1.34190019406378, 1.373091755575475, 0.4878853040802124, -2.016210706184025, -1.271569621945338, -1.7320527069209364, 1.8925961168214813, 0.19978910856884255, -0.8559457204764085, -0.11165649828208135, -1.9842454577045368, -1.0272707227885816, 0.707159588519453, -0.497475240900389, -1.594583745952857, -2.034776717633386, -0.7529707003558734, -1.8862734116710413, -1.8076361244977157, -1.5076069153790665, 1.414894854147022, -1.8702907874312973, -1.933714197775687, 1.562927266203912, -1.8993947431987048, 2.4547981612313485, 1.2133260802532073, 1.3106153127661389, 1.8415769781891895, 0.5111805529231123, 1.9591877182439965, 3.3346997090890658, -0.8513041645021289, 0.40517956632921, -0.5527196796935492, 3.1083082468518617, 0.055757546854157326, 0.27260353734703296, 0.1279170118163728, 3.531992374483472, -1.7953061781458501, 1.182064208848717, -1.0997315980323725, 1.1575345593922473, -1.933714197775687, 0.32584413636770715, -1.9008437670604665, -1.7616276051528394, 0.25161153786699747, 0.9303754316845816, -1.7034564494336808, 0.6542352854013818, 0.9663782208698392, -0.08406925989893413, 0.8869768484682965, 0.24598539222303978, -0.6462856060547739, -0.8223718437897126, 3.6745921333132125, -0.7411071027031556, 0.09199649271656066, 2.297175422899088, -1.6598655202373211, 1.0470649899074378, -0.38431957712999515, 0.5535272080449898, 1.429417654747046, 0.6597926875759431, -0.5053869909437207, 0.7891427687629277, -1.7704605209546063, 0.5138940760185049, -0.17711055868284406, -1.7916535002579708, 0.2057015424944182, 0.21173402753639367, 0.5374563856280444, -2.133392285106392, 0.7930706276045645, -0.8432262826475481, 1.7469255428229407, -1.4015187602280472, 0.2146398387276361, 0.9851934215075304, -2.062882744877862, -0.15907674262046093, -1.4489635657071636, 0.4489008738041381, -1.8649632460180492, -1.5517107319673438, -0.3126239631912401, -2.065546515584487, 0.12814928258791425, 0.29273255337778187, -2.0548914327579904, -0.2158297562523974, -0.07442815894094566, 0.918671147874094, -1.7371265842691854, -0.13838396763923536, -0.1247085814624219, -0.6775488946384423, -0.04854744821725995, -2.097431380566968, -0.39866207031567547, 1.7346688992533763, -2.0627463100529377, -0.2488485728449846, -0.47125720904484925, -0.005065528294271085, 0.5300841599472135, 0.3026643134762812, 1.3355689711111867, -1.7257708877497042, -1.787657844198035, -1.8236187487374595, 1.5703439760922413, 0.17563802382463725, -1.8907053155751716, -0.4050997616259989, -1.3421120989417497, 1.1148031129640565, -0.1387604571132839, -0.03971487971752406, 1.160052893482013, 0.19911220534882193, 2.8445060516712837, 1.7476910164975097, -1.3938774241987852, 1.5777148735125324, 0.6233547674826962, -1.4704550323876706, -0.7619383226992708, 0.7269942677424256, -1.266994731555334, -1.8049723537910916, 2.4292751263335077, 0.10581440136268142, -1.080755493595618, -2.1254009729865206, 0.0653820539377322, 2.466144281317023, -1.9935686551777207, -0.9400305998103156, 0.14456313876582227, 1.5402966280712984, -2.147962640495817, 0.9592807724499517, 1.5805361585566264, -1.1577709685222088, -1.9483649366621199, 0.1594315892159313, 2.118989864246565, 0.9830817975329342, -0.3313291830952229, -0.35558535254645973, -0.620579377712508, -1.6350191230396622, -2.183923545035242, -0.4759095827119937, -2.034776717633386, -2.1280647436931437, 1.0299758036797764, 2.9760675331893696, 2.4141699832998995, 0.9557669575022426, 1.5859110304289221, -0.8080348674492304, 0.11765197955571703, 1.3719986474644117, -0.4701741879725851, 0.43201676860876226, -0.5761919667925467, -1.7451178963890577, 0.22745201570162707, -0.004341993309273255, -1.4676385785698425, -0.37640065054258043, 0.6470826376244941, -1.6108382827164691, 3.3910661501369352, 1.5658794276362804, -1.8701543526063726, -1.5295891963562895, 0.41487582081540075, 0.8246158282106901, 1.3705544073775588, 0.9508646234181389, -0.8202303149850563, -0.14360304381423816, 0.5691137982030932, -0.6164910441493179, 1.9523207594579255, 0.38684784520736004, 2.139619621499212, 1.261090802003335, 1.0072347355432059, 0.5935349120922043, -0.7585662021478898, 0.5235504702217634, 0.8982481559261012, -1.9736405983348682, -1.6162391705171721, -0.8096543137620626, 1.9792643306637294, 2.0497700177711504, 1.0863545493796885, 0.9375307396687053, -1.815627436617587, -0.18541420846392298, 0.8225421562479913, -1.8163249678765525, -0.5911119316820218, 1.487137058338857, -1.9403736245422474, 1.5666341005897393, 0.758591234418423, 0.09011561178443915, -0.7824912088530595, 0.7114238001961187, 0.19969019096196472, 1.654787065942738, -1.9500431416360036, -0.7414814138505136, 2.4179562896459963, -1.9368046715998903, -1.2988741056371376, 0.6470558190945637, 0.2222392460216627, 0.7441499378294215, -2.058887088817927, 1.1856267098470081, 0.5769605608878015, 0.1853370647500054, 1.5602785896313085, -0.3155875760624943, 0.4425056760792464, 0.9294159555423047, -0.005408017394426922, -0.21608242355389326, 0.9045438473318181, 0.5001433852577124, 0.10442927656683454, 1.5280413705080864, 0.32775598864789596, -0.29902258949804816, 0.9889034256920164, -1.639726012307007, 0.7325262693937553, 0.48619785386438835, -1.8782820995511686, -0.5869573161006106, 1.506711967367495, 0.8203082418081262, 1.8348407904585324, -1.756760209542153, 2.020272285421547, 0.4656095306212362, 0.8264361312626334, -1.9793446194088675, 0.3668680742754879, 0.5860901480510157, -2.041436144399946, -1.858303819251489, 1.1272397723202456, 1.9185902441969545, 0.952783729997816, 0.10282398457389896, -0.9086052126846726, -0.010229817171841096, -1.302891180488529, -1.002412106822903, 0.24097948838819516, -0.5427530445933518, 0.5865410077329978, -2.0801972544709186, 0.4491236870663883, -0.7443460702086895, 1.581980332102627, 0.13101816335639532, -0.5979931784072273, -0.9632419271399539, -2.1546220672623773, 1.2351174753804277, 0.7197806747356549, 1.6368847568734244, -0.490229672947988, -1.601790829332036], \"xaxis\": \"x\", \"y\": [0.5233354677940357, 0.3084360810560924, 0.5615849085785162, 0.19390418274233703, 0.8807462819127821, -0.7664340023910111, -1.3076597101776788, 1.824432990371582, -3.0646377966823573, 0.20002225795287987, 0.3650087456937558, -0.6950956101036309, -0.5000138714701082, -0.41596914182649464, -0.6001637978888789, -0.7878687075287628, -1.3033461654179428, -0.4049298856412345, 2.0045125836983924, -0.7984736458208003, -0.5809026147520339, 1.0368207991515828, 1.4304186052228405, 1.0810377894020191, -1.5290898077460258, 1.412440707012755, -1.8912487809383687, 0.11031444356322219, 0.20956632947725806, 0.7410254604882786, 0.5439026369679745, -0.3285690505350908, -1.4932365628932511, 0.6220344611384463, -0.8708497708130188, -1.5861496623138487, 0.5505368533343499, -0.10818212142740376, 1.7495481552765402, 0.053377415807800664, 0.3979386751853131, -2.6068027998986145, -0.6987598833084692, -0.25203934685952467, 0.25857618140748795, 1.4079322098365359, 0.5428585092563774, -1.0908553931704172, -0.4897574230758286, -0.0698186454612981, 0.012976202404934443, -0.6364354795709912, 0.06356725989786935, 0.9083812697048125, 1.3127752252006863, 1.052652025203705, 0.47163969527845345, 1.7349237647784084, 0.9764870546920594, -0.3318807574201276, -0.6768540529016418, -1.7422986596335122, 0.36758307297384823, 0.48733119466256, 1.9242036619787815, -0.4905786256808154, 1.1233165640112863, -0.3264197843846514, 0.33829168063065845, -0.2685050236084598, -0.6918955903205435, -2.597761556412874, 1.3165981109482194, 0.2290249704612447, 1.1471340701913977, 0.4790898734270786, 0.3514091960560811, 0.8170756337229359, -0.6262868755225407, 0.21993449885549163, -0.4091109272733878, 0.28947303757047543, -0.40889397404222344, -0.40389309877039914, 2.0469243272077575, -1.02930363479387, -0.010948244941685996, -0.42991276246808163, -0.5223370541568912, 1.7196694812511104, -1.1375669275617664, -0.8486806522746824, 0.059972388355262085, -0.9182163081553255, -1.51990488288137, 0.8865430845826703, -1.1119649112789638, 0.7985545330199201, 0.9636099116838316, -2.369156366321537, 2.3337312719393815, 0.14936816380948847, -0.24340078382866737, 0.533552699037985, -0.8428733654969673, 0.5948011615437491, 1.1370194566914034, 2.596139080578971, 1.240362118583742, 0.3696194625038508, -0.9370228965176076, 2.5034709276250764, 3.0148075407131367, 0.640057192584256, -1.8412270068237035, -1.0232238593070948, -2.189973475819362, -0.1434801108168739, 1.623322441356982, -0.1727815269836488, -0.006384975485862064, -1.5683218099473513, 0.3117008990473517, -2.3058419523467397, 0.29721871077383116, 1.7463035094992874, -0.40622827719040266, -0.3529491914237624, -2.0555449179906473, -0.6849470060551806, 0.8573598689033828, -0.5396618993956737, -1.066631986690871, -0.4941012254061688, 2.908771291470146, -0.046866026189091456, 1.981806875929532, -0.9196522096176997, -0.6950956101036309, 0.2585053345524983, 1.7340355743485603, 1.1850775059431382, -0.7004362228134114, -0.6232668970888612, 0.8439596096998923, -1.7422986596335122, 3.105848536663259, 0.6190037156823665, 0.5506862271259846, -0.817331391381767, -1.2229816657682353, 0.32435666818327186, 0.17841350686663887, -0.015501102378382878, 1.1497917582584312, 2.1765359211872237, -0.5007527859009748, 1.3171159957131058, -1.8106226151947982, 0.9547052132828852, 0.6268194257657493, 2.1303998413246363, 0.6924289266410842, -1.5547181634985716, -0.6320883760565016, -1.752798209036252, 1.2597959852773757, 0.0706697697487682, 0.22121992610523414, 1.2783460792637327, -1.1538040066830184, 2.271965917590196, 1.33246867424613, 2.1176541554586286, -0.0326488586196981, -0.18864919308845765, 0.8179550391174902, 0.32469442819467836, 1.3245598321945713, 0.8256018609618714, 0.7043668491928161, -0.6262868755225407, 0.5393618451380567, -0.8395688350970675, 0.6862645062755118, 1.5471611546345645, 1.160426283505318, -0.9131792952772639, 1.0780552742043465, -2.221343560000408, 0.007594493387441212, -2.275678987433015, -0.583489604935495, -0.3681012090602659, -1.2397552714575184, 0.2382015640539791, -0.6262868755225407, -1.051285436971632, -0.9844475527558286, -2.1792566147583052, 1.9100176902205845, 0.37912436014506556, -0.3750799859718497, -0.5244019609197934, 1.9701432626066189, 1.0868575668938651, -0.7366979226622987, -0.6804085465884716, -1.0348846630999702, 0.7449923182045032, -0.9863989735217739, -0.6269937901891428, 1.2255522291949343, 1.8937211410016805, -0.35343793234882137, -2.844258494970662, -0.01022652326185326, -1.5299919391673784, 0.2590145927445832, -2.0383601941861906, 1.8533420859180696, -1.0646578471872448, -1.7699543772352513, -2.081350730277131, -0.4727018333514892, -1.4557835335221223, 0.19953212062508013, 0.7576948600212049, -0.6674944691712157, -0.5987200412121495, -0.6540226402468032, -0.6200977212576804, 0.055747000400311865, 0.2315772067494051, -0.6480994241533032, -0.5740495148847398, -1.0327953111382773, 0.18509358422661387, 0.3775796381887758, 1.0413915351680276, -1.608977392584098, -0.39201538289234283, 1.2464541295465754, 0.9499736850199243, -0.07662221513230025, 0.6407112295018578, 0.11868703386945281, 1.1830510209468978, 0.6093813590030939, 1.626700494495673, 0.6693415950190349, 0.889004987305549, -1.1261107083789597, 1.9177113497583116, 0.20546888697703664, 0.5618740913365753, 1.0593681932922643, 0.3896637395074997, 1.2927722976533056, 0.9519896807462613, -0.7658122799045162, 2.206851163460666, -1.3504202583186649, 0.46288834436452425, -0.2183469039201344, -0.19926897029875715, 1.171863969526841, -0.40389309877039914, -1.4760486812169595, -0.6783000430066308, -2.4859869143482185, -0.8704932009054449, -0.5325335506897013, -0.8497174391455178, 1.556497884371057, -1.3372651516665996, 0.925479671273666, -0.7479494299571731, 0.6742565805346673, -0.9560951913413755, -0.6480994241533032, 1.883768452289554, 2.221323645634884, -1.2472539751991716, -1.3430598950634585, -0.2594198737769621, -1.2858581068167827, -0.5327639303200828, -2.46907449426193, 0.33829168063065845, -0.013722775448492548, -0.41590427145634074, -1.421659236065261, -0.39345262041032264, 0.9639084255744069, -1.1119649112789638, 1.8217964897549144, -0.3628055778659767, -0.6521947608951207, -0.3768168989887074, -0.29208454286688945, -0.9247512522047698, -0.5205784252324984, -0.8747824856792114, 0.41961976122002764, 0.8194042608393164, -2.0166422724863082, -1.165607094997249, -0.7415874354528884, 1.4646151378957757, 1.1018945065685655, -0.4977029830663662, 1.1841861211535554, -0.9061036833749301, 0.3756779468012381, -1.6015564040092582, -0.5378826590009294, 0.6889969080974557, -1.8884181169405858, -0.5508854256829734, 1.6759018121599514, 0.18250689234129247, -0.8938900333114906, -0.4727018333514892, -0.47107502533583484, 0.9066875196290082, -0.963266298330577, 0.7665475062993853, -0.3212686053937169, 1.3138395646649834, -0.5576102703336822, -0.9799557553095141, 1.0484680448905495, -0.4900206496467471, -0.4265258597229383, 1.1422442701094428, -0.038414375990953924, 2.237835025702816, -1.016650400315358, -0.46025542659455493, 0.1798951510949309, -0.1120309627089254, 1.7504114050670359, 0.30736731482228125, -0.017948163403442838, 1.059627271717057, -1.9992762389328587, 0.10857099418076982, 0.9737198938054572, 0.04378563753513614, -0.6480994241533032, -0.8618712587820675, -1.0141298007141202, 1.4320183553600174, -1.1221135153274144, 1.537928121578984, -0.8352630470984558, 0.19825551727886292, 1.285530499278874, -0.4818136505291039, -0.28650561824331855, 2.2513921515728907, 0.20273037082795628, 0.03620697178330308, 1.0257396033747197, 0.8852824714077643, -0.5244019609197934, 0.08725941543939814, -0.40389309877039914, -2.04557149121922, 1.4220062331237797, 0.19011825010892355, -0.9734149023790272, -0.7749986152969546, 1.6776232112622418, 0.37953996605986984, -1.2110892953520465, 2.291444321821662, -0.006101731216443201, -1.20714423694827, 1.0274773829652568, 2.031339805963531, -0.11382924523511105, -1.2975111061292284, -1.3076597101776788, -1.6327279355041333, 0.9026627562006136, 1.2994436193639833, 0.2608284395609046, -0.562364434884504, 1.950329929532731, 1.9359108344070817, 0.7184978287349048, -2.4790463896368413, 0.8230924373232087, -0.5192845944305381, 0.3526453514880211, -0.8486806522746824, 0.009669075305869121, 0.0021442708394211587, 1.7743510355167718, -0.21865849389552464, 0.14406471815039518, -0.7253973102666724, 1.173559267754627, 1.0615437223822812, -0.48569744117339986, -0.4911116799684072, -1.3076597101776788, -1.5523813874521848, 1.458170492998688, -0.16369465696516766, 0.39768737961548356, -0.5278787864246183, 0.9877720124996989, 0.47436358526516526, 0.8718533997756411, 0.49104790805410525, 0.7614600487077061, 0.4394229687394901, 0.44880135716186, 1.9970337125966542, 0.27483526814840703, -0.8191416415195287, 0.7069211773454183, -0.4559556992492019, 0.07460917536461326, 0.08396555117954264, 0.43881846976772426, 0.5317996580888169, -1.077470477549402, -1.0810405454705865, 0.45047255706407213, 0.703815338338021, -0.00683974726021445, -0.8065269071351289, -0.34696047609967146, 0.6996402199889047, -0.6364354795709912, -0.40389309877039914, 1.2083741482867425, -1.4969254890206654, -1.1639427329302603, -0.9837959241170945, -1.4018147781641068, -0.8451384339846509, 2.027050641805133, 1.689571689466766, 1.0731715250894456, 0.7181844334888892, 2.1185245567246773, 0.043446221258088315, 1.222262698129707, 0.37337772622872983, -1.575350185068218, 0.05837209994205115, -1.1221135153274144, 0.7657415899976138, 1.6398550459486485, 0.4454305336467437, -0.7853311719591579, 1.6627693649340263, 0.11589790387851713, -0.3590518976879669, -0.3851298357333428, 0.1418822528918454, 0.36431527682901327, -0.4215040084061746, 0.9303321244380843, -0.6262868755225407, -0.8760455690503013, -0.590696278411836, 0.35272032986087754, -0.4484450144960254, -0.8486806522746824, 1.9403936266178763, -0.25030805659934713, 0.04982378430681197, -0.3556728916763781, -0.28044700085135454, -0.6214004462998761, -0.40389309877039914, 1.1060341182041622, -0.19298175501332648, -0.4956779176891522, -1.9941221823090471, -1.3180898972875257, -1.6701204273576196, 0.43471539260716274, 0.31217632603751216, 0.0463724484321379, -0.5225304118437363, 1.84870355567255, 0.05878222383095568, -1.4938368801783657, 0.5665764581720649, 1.6156048886704037, 1.723558462617413, -1.4278663200794859, -0.5829523270265603, -0.6897989549078694, -0.3486732734680352, -0.6062974803555764, -0.40389309877039914, 1.7852151306108064, -1.3076597101776788, -0.8271510771043691, 0.6751258653895361, 0.7390685257697017, -0.8183908547711862, -1.2570267706080434, -1.0574632670494575, 1.4500277746221781, -0.6644580851781358, 0.42356964043697065, 1.0632637875816155, 0.8521635036521314, -2.2735622502934243, 0.893869369882834, -0.022640473613303826, -2.2823286304261723, -0.6263686511830076, -0.6092251429809327, -0.42219781892292957, 2.1786889846101096, 0.6548469296114452, 1.6291872873572757, 2.327925638586596, 0.6298301461988766, -1.0437561892359755, 0.962796574079198, -0.32454109397784514, -0.3212686053937169, -1.0965998484840658, -0.376540597612525, -2.4718917111226757, -0.6849470060551806, 0.4765302759315011, -0.7362910811521438, -1.323094988036483, -0.20626436243695018, -1.0577767418485475, 0.14275052607095554, -0.9264187164286999, 1.3616647145669578, -0.036439267122013674, 1.3301935636711082, -0.7450979095333855, -0.6417788418664285, -0.3386449211448069, -0.8645699848119447, -0.4286516229893363, 1.6066581524623875, -1.1119649112789638, 1.3537861244455194, 0.7097827614209231, -0.9004175651364752, -0.19164792606670744, 1.036496567367816, 1.934967466292275, 2.135818269886883, 0.5461174722159413, -1.51990488288137, 0.5602170641340092, -2.0317940830551104, -0.19926897029875715, 0.05644411509959627, 0.612357754714313, -1.0522591013064577, -0.8776713010296009, -1.0187555616876671, 0.25481223093177824, -0.6437686020199973, -0.41404170281884933, 0.42091617400734066, -0.326314692865462, 1.7014598710906743, 0.025989361669855892, -0.015890328903437206, -0.3973029490446316, 0.35834566105320764, 0.10522199789585805, 1.266057170483712, 1.0883731600178506, 1.879929386779043, -0.5379204772951979, 0.1909037023758023, -0.7115598893517641, 0.1964823820353122, -0.3903305032140653, 0.11775947879163856, 0.8174375119066576, -0.9360705654952584, 0.2664195131207594, -0.012024947309942793, -0.7586073709257581, 1.341190804199078, 0.9694544454953757, -0.8704932009054449, 1.2817244047080265, -1.2982284294864128, -0.4098163148638988, -0.2190143053213785, 0.868409644537427, 0.22360035638114029, -1.7422986596335122, -1.7487350542537854, -0.4174020514818899, -0.5854552381534376, -0.06372507487824736, 2.8005408965273877, -1.4814302663886931, 1.66690928891692, 0.047379881940956846, -0.7196212224783843, 0.09868624580871772, -0.6533439134799283, -0.9073407828073219, -0.7589966972077586, -0.8486806522746824, -0.8086444692886902, -0.44235469629497953, -1.2416641391113703, -0.8474715229664508, 0.6313957519894466, 0.5398220670615317, 0.6215771869003545, -0.08577298773728903, -0.6213106020238747, -0.9779298020332794, -0.9695659811082058, 1.0631202718604105, -0.006101731216443201, 1.1975587388928102, 1.5680997718018634, 0.2335286401773677, 1.9684336115482544, -1.4441311473353746, -0.2281648312089698, 1.4827020148528804, 0.8141538350338289, 0.1057492998300666, -0.6476434481854595, -0.7362173944810599, 0.019042384410435896, -1.4050912932191968, -0.4045619378996405, -0.7008162848702622, 0.6537564100022739, -1.8940868890503952, -0.0713736521688369, 0.2592329735991819, -0.0654481892588089, -1.859999735926576, -1.9197366378155176, -1.2083552765010785, 1.650413722323267, 1.0760696741264695, 1.5875295921733346, 0.8675130962302521, -0.6675417397646067, 0.062390251745948526, 0.15346302648140556, -2.9124224113140254, -2.4317086987362257, 0.029957855538517313, -0.5688369151687057, 0.23536997915707625, -0.2594845808303912, -1.3043952596409063, -0.8230032020905078, 1.5304042783847414, -1.7243425341146075, -0.24927126972851182, 1.6973786203342665, 2.1469785632833642, -0.36248461060984377, 0.32932721148729466, -1.7191300697989482, -0.7620028966501072, -0.7637087744287286, -1.5609778527381977, 0.32633201377175475, 0.43779668796366106, -0.4727018333514892, -0.3537835010231538, 1.6274191245801184, -0.7394410382332632, -1.7460356672662645, -1.0191918138538318, 0.42824308448173154, 0.4645446256188255, 0.7018065925119983, -0.7571883795860413, 2.339581369582348, 0.6527536209375527, 0.5095217039509419, 0.30823687134641786, 1.1800870000637187, 1.5871149917500798, 2.416596693374807, 2.3841979224391334, -0.1219578668257722, -0.5355185354817895, 1.2019287116980661, -0.77619469654211, -0.03419803226074368, 1.5416695313979105, 1.578405715812881, -0.4358542514496118, -1.1984633871190145, -1.8994217327312288, -0.20491719670877798, -0.3235760100279908, -0.33936392485030425, -1.8298350608416676, 1.2767675864601662, -1.4410503313034273, -0.880641804953895, 1.157313135635403, -1.5549849266441975, -0.6940588232327954, -0.8997197385752727, 0.029944108282147937, -0.45937394629732725, 0.4156027076844375, 0.4055967279356839, 0.5424456600714451, -0.3337973710868934, -1.198578240330711, 0.09369356466582297, 2.6629882126642395, 0.11733641118181998, 1.2501337194786533, -0.5244019609197934, 0.8655885138362206, 0.7917489731845356, -0.9467773898543356, -0.4092179316816973, 1.0443619572676701, 0.3373848415605867, -1.5876768305916247, -0.7024396806978077, 1.0581167158762874, -0.6795674196119978, 0.14701768007797358, -1.0203410561679438], \"yaxis\": \"y\"}],                        {\"coloraxis\": {\"colorbar\": {\"title\": {\"text\": \"color\"}}, \"colorscale\": [[0.0, \"#0d0887\"], [0.1111111111111111, \"#46039f\"], [0.2222222222222222, \"#7201a8\"], [0.3333333333333333, \"#9c179e\"], [0.4444444444444444, \"#bd3786\"], [0.5555555555555556, \"#d8576b\"], [0.6666666666666666, \"#ed7953\"], [0.7777777777777778, \"#fb9f3a\"], [0.8888888888888888, \"#fdca26\"], [1.0, \"#f0f921\"]]}, \"legend\": {\"tracegroupgap\": 0}, \"margin\": {\"t\": 60}, \"template\": {\"data\": {\"bar\": [{\"error_x\": {\"color\": \"#2a3f5f\"}, \"error_y\": {\"color\": \"#2a3f5f\"}, \"marker\": {\"line\": {\"color\": \"#E5ECF6\", \"width\": 0.5}}, \"type\": \"bar\"}], \"barpolar\": [{\"marker\": {\"line\": {\"color\": \"#E5ECF6\", \"width\": 0.5}}, \"type\": \"barpolar\"}], \"carpet\": [{\"aaxis\": {\"endlinecolor\": \"#2a3f5f\", \"gridcolor\": \"white\", \"linecolor\": \"white\", \"minorgridcolor\": \"white\", \"startlinecolor\": \"#2a3f5f\"}, \"baxis\": {\"endlinecolor\": \"#2a3f5f\", \"gridcolor\": \"white\", \"linecolor\": \"white\", \"minorgridcolor\": \"white\", \"startlinecolor\": \"#2a3f5f\"}, \"type\": \"carpet\"}], \"choropleth\": [{\"colorbar\": {\"outlinewidth\": 0, \"ticks\": \"\"}, \"type\": \"choropleth\"}], \"contour\": [{\"colorbar\": {\"outlinewidth\": 0, \"ticks\": \"\"}, \"colorscale\": [[0.0, \"#0d0887\"], [0.1111111111111111, \"#46039f\"], [0.2222222222222222, \"#7201a8\"], [0.3333333333333333, \"#9c179e\"], [0.4444444444444444, \"#bd3786\"], [0.5555555555555556, \"#d8576b\"], [0.6666666666666666, \"#ed7953\"], [0.7777777777777778, \"#fb9f3a\"], [0.8888888888888888, \"#fdca26\"], [1.0, \"#f0f921\"]], \"type\": \"contour\"}], \"contourcarpet\": [{\"colorbar\": {\"outlinewidth\": 0, \"ticks\": \"\"}, \"type\": \"contourcarpet\"}], \"heatmap\": [{\"colorbar\": {\"outlinewidth\": 0, \"ticks\": \"\"}, \"colorscale\": [[0.0, \"#0d0887\"], [0.1111111111111111, \"#46039f\"], [0.2222222222222222, \"#7201a8\"], [0.3333333333333333, \"#9c179e\"], [0.4444444444444444, \"#bd3786\"], [0.5555555555555556, \"#d8576b\"], [0.6666666666666666, \"#ed7953\"], [0.7777777777777778, \"#fb9f3a\"], [0.8888888888888888, \"#fdca26\"], [1.0, \"#f0f921\"]], \"type\": \"heatmap\"}], \"heatmapgl\": [{\"colorbar\": {\"outlinewidth\": 0, \"ticks\": \"\"}, \"colorscale\": [[0.0, \"#0d0887\"], [0.1111111111111111, \"#46039f\"], [0.2222222222222222, \"#7201a8\"], [0.3333333333333333, \"#9c179e\"], [0.4444444444444444, \"#bd3786\"], [0.5555555555555556, \"#d8576b\"], [0.6666666666666666, \"#ed7953\"], [0.7777777777777778, \"#fb9f3a\"], [0.8888888888888888, \"#fdca26\"], [1.0, \"#f0f921\"]], \"type\": \"heatmapgl\"}], \"histogram\": [{\"marker\": {\"colorbar\": {\"outlinewidth\": 0, \"ticks\": \"\"}}, \"type\": \"histogram\"}], \"histogram2d\": [{\"colorbar\": {\"outlinewidth\": 0, \"ticks\": \"\"}, \"colorscale\": [[0.0, \"#0d0887\"], [0.1111111111111111, \"#46039f\"], [0.2222222222222222, \"#7201a8\"], [0.3333333333333333, \"#9c179e\"], [0.4444444444444444, \"#bd3786\"], [0.5555555555555556, \"#d8576b\"], [0.6666666666666666, \"#ed7953\"], [0.7777777777777778, \"#fb9f3a\"], [0.8888888888888888, \"#fdca26\"], [1.0, \"#f0f921\"]], \"type\": \"histogram2d\"}], \"histogram2dcontour\": [{\"colorbar\": {\"outlinewidth\": 0, \"ticks\": \"\"}, \"colorscale\": [[0.0, \"#0d0887\"], [0.1111111111111111, \"#46039f\"], [0.2222222222222222, \"#7201a8\"], [0.3333333333333333, \"#9c179e\"], [0.4444444444444444, \"#bd3786\"], [0.5555555555555556, \"#d8576b\"], [0.6666666666666666, \"#ed7953\"], [0.7777777777777778, \"#fb9f3a\"], [0.8888888888888888, \"#fdca26\"], [1.0, \"#f0f921\"]], \"type\": \"histogram2dcontour\"}], \"mesh3d\": [{\"colorbar\": {\"outlinewidth\": 0, \"ticks\": \"\"}, \"type\": \"mesh3d\"}], \"parcoords\": [{\"line\": {\"colorbar\": {\"outlinewidth\": 0, \"ticks\": \"\"}}, \"type\": \"parcoords\"}], \"pie\": [{\"automargin\": true, \"type\": \"pie\"}], \"scatter\": [{\"marker\": {\"colorbar\": {\"outlinewidth\": 0, \"ticks\": \"\"}}, \"type\": \"scatter\"}], \"scatter3d\": [{\"line\": {\"colorbar\": {\"outlinewidth\": 0, \"ticks\": \"\"}}, \"marker\": {\"colorbar\": {\"outlinewidth\": 0, \"ticks\": \"\"}}, \"type\": \"scatter3d\"}], \"scattercarpet\": [{\"marker\": {\"colorbar\": {\"outlinewidth\": 0, \"ticks\": \"\"}}, \"type\": \"scattercarpet\"}], \"scattergeo\": [{\"marker\": {\"colorbar\": {\"outlinewidth\": 0, \"ticks\": \"\"}}, \"type\": \"scattergeo\"}], \"scattergl\": [{\"marker\": {\"colorbar\": {\"outlinewidth\": 0, \"ticks\": \"\"}}, \"type\": \"scattergl\"}], \"scattermapbox\": [{\"marker\": {\"colorbar\": {\"outlinewidth\": 0, \"ticks\": \"\"}}, \"type\": \"scattermapbox\"}], \"scatterpolar\": [{\"marker\": {\"colorbar\": {\"outlinewidth\": 0, \"ticks\": \"\"}}, \"type\": \"scatterpolar\"}], \"scatterpolargl\": [{\"marker\": {\"colorbar\": {\"outlinewidth\": 0, \"ticks\": \"\"}}, \"type\": \"scatterpolargl\"}], \"scatterternary\": [{\"marker\": {\"colorbar\": {\"outlinewidth\": 0, \"ticks\": \"\"}}, \"type\": \"scatterternary\"}], \"surface\": [{\"colorbar\": {\"outlinewidth\": 0, \"ticks\": \"\"}, \"colorscale\": [[0.0, \"#0d0887\"], [0.1111111111111111, \"#46039f\"], [0.2222222222222222, \"#7201a8\"], [0.3333333333333333, \"#9c179e\"], [0.4444444444444444, \"#bd3786\"], [0.5555555555555556, \"#d8576b\"], [0.6666666666666666, \"#ed7953\"], [0.7777777777777778, \"#fb9f3a\"], [0.8888888888888888, \"#fdca26\"], [1.0, \"#f0f921\"]], \"type\": \"surface\"}], \"table\": [{\"cells\": {\"fill\": {\"color\": \"#EBF0F8\"}, \"line\": {\"color\": \"white\"}}, \"header\": {\"fill\": {\"color\": \"#C8D4E3\"}, \"line\": {\"color\": \"white\"}}, \"type\": \"table\"}]}, \"layout\": {\"annotationdefaults\": {\"arrowcolor\": \"#2a3f5f\", \"arrowhead\": 0, \"arrowwidth\": 1}, \"autotypenumbers\": \"strict\", \"coloraxis\": {\"colorbar\": {\"outlinewidth\": 0, \"ticks\": \"\"}}, \"colorscale\": {\"diverging\": [[0, \"#8e0152\"], [0.1, \"#c51b7d\"], [0.2, \"#de77ae\"], [0.3, \"#f1b6da\"], [0.4, \"#fde0ef\"], [0.5, \"#f7f7f7\"], [0.6, \"#e6f5d0\"], [0.7, \"#b8e186\"], [0.8, \"#7fbc41\"], [0.9, \"#4d9221\"], [1, \"#276419\"]], \"sequential\": [[0.0, \"#0d0887\"], [0.1111111111111111, \"#46039f\"], [0.2222222222222222, \"#7201a8\"], [0.3333333333333333, \"#9c179e\"], [0.4444444444444444, \"#bd3786\"], [0.5555555555555556, \"#d8576b\"], [0.6666666666666666, \"#ed7953\"], [0.7777777777777778, \"#fb9f3a\"], [0.8888888888888888, \"#fdca26\"], [1.0, \"#f0f921\"]], \"sequentialminus\": [[0.0, \"#0d0887\"], [0.1111111111111111, \"#46039f\"], [0.2222222222222222, \"#7201a8\"], [0.3333333333333333, \"#9c179e\"], [0.4444444444444444, \"#bd3786\"], [0.5555555555555556, \"#d8576b\"], [0.6666666666666666, \"#ed7953\"], [0.7777777777777778, \"#fb9f3a\"], [0.8888888888888888, \"#fdca26\"], [1.0, \"#f0f921\"]]}, \"colorway\": [\"#636efa\", \"#EF553B\", \"#00cc96\", \"#ab63fa\", \"#FFA15A\", \"#19d3f3\", \"#FF6692\", \"#B6E880\", \"#FF97FF\", \"#FECB52\"], \"font\": {\"color\": \"#2a3f5f\"}, \"geo\": {\"bgcolor\": \"white\", \"lakecolor\": \"white\", \"landcolor\": \"#E5ECF6\", \"showlakes\": true, \"showland\": true, \"subunitcolor\": \"white\"}, \"hoverlabel\": {\"align\": \"left\"}, \"hovermode\": \"closest\", \"mapbox\": {\"style\": \"light\"}, \"paper_bgcolor\": \"white\", \"plot_bgcolor\": \"#E5ECF6\", \"polar\": {\"angularaxis\": {\"gridcolor\": \"white\", \"linecolor\": \"white\", \"ticks\": \"\"}, \"bgcolor\": \"#E5ECF6\", \"radialaxis\": {\"gridcolor\": \"white\", \"linecolor\": \"white\", \"ticks\": \"\"}}, \"scene\": {\"xaxis\": {\"backgroundcolor\": \"#E5ECF6\", \"gridcolor\": \"white\", \"gridwidth\": 2, \"linecolor\": \"white\", \"showbackground\": true, \"ticks\": \"\", \"zerolinecolor\": \"white\"}, \"yaxis\": {\"backgroundcolor\": \"#E5ECF6\", \"gridcolor\": \"white\", \"gridwidth\": 2, \"linecolor\": \"white\", \"showbackground\": true, \"ticks\": \"\", \"zerolinecolor\": \"white\"}, \"zaxis\": {\"backgroundcolor\": \"#E5ECF6\", \"gridcolor\": \"white\", \"gridwidth\": 2, \"linecolor\": \"white\", \"showbackground\": true, \"ticks\": \"\", \"zerolinecolor\": \"white\"}}, \"shapedefaults\": {\"line\": {\"color\": \"#2a3f5f\"}}, \"ternary\": {\"aaxis\": {\"gridcolor\": \"white\", \"linecolor\": \"white\", \"ticks\": \"\"}, \"baxis\": {\"gridcolor\": \"white\", \"linecolor\": \"white\", \"ticks\": \"\"}, \"bgcolor\": \"#E5ECF6\", \"caxis\": {\"gridcolor\": \"white\", \"linecolor\": \"white\", \"ticks\": \"\"}}, \"title\": {\"x\": 0.05}, \"xaxis\": {\"automargin\": true, \"gridcolor\": \"white\", \"linecolor\": \"white\", \"ticks\": \"\", \"title\": {\"standoff\": 15}, \"zerolinecolor\": \"white\", \"zerolinewidth\": 2}, \"yaxis\": {\"automargin\": true, \"gridcolor\": \"white\", \"linecolor\": \"white\", \"ticks\": \"\", \"title\": {\"standoff\": 15}, \"zerolinecolor\": \"white\", \"zerolinewidth\": 2}}}, \"xaxis\": {\"anchor\": \"y\", \"domain\": [0.0, 1.0], \"title\": {\"text\": \"0\"}}, \"yaxis\": {\"anchor\": \"x\", \"domain\": [0.0, 1.0], \"title\": {\"text\": \"1\"}}},                        {\"responsive\": true}                    ).then(function(){\n",
       "                            \n",
       "var gd = document.getElementById('a4d00bee-918d-4297-a3b1-30d4f92718bd');\n",
       "var x = new MutationObserver(function (mutations, observer) {{\n",
       "        var display = window.getComputedStyle(gd).display;\n",
       "        if (!display || display === 'none') {{\n",
       "            console.log([gd, 'removed!']);\n",
       "            Plotly.purge(gd);\n",
       "            observer.disconnect();\n",
       "        }}\n",
       "}});\n",
       "\n",
       "// Listen for the removal of the full notebook cells\n",
       "var notebookContainer = gd.closest('#notebook-container');\n",
       "if (notebookContainer) {{\n",
       "    x.observe(notebookContainer, {childList: true});\n",
       "}}\n",
       "\n",
       "// Listen for the clearing of the current output cell\n",
       "var outputEl = gd.closest('.output');\n",
       "if (outputEl) {{\n",
       "    x.observe(outputEl, {childList: true});\n",
       "}}\n",
       "\n",
       "                        })                };                });            </script>        </div>"
      ]
     },
     "metadata": {},
     "output_type": "display_data"
    }
   ],
   "source": [
    "pca = PCA(n_components=3)\n",
    "components = pca.fit_transform(df_z)\n",
    "\n",
    "\n",
    "fig = px.scatter(components, x=0, y=1, color=y_km)\n",
    "fig.show()"
   ]
  },
  {
   "cell_type": "code",
   "execution_count": 116,
   "metadata": {},
   "outputs": [
    {
     "data": {
      "application/vnd.plotly.v1+json": {
       "config": {
        "plotlyServerURL": "https://plot.ly"
       },
       "data": [
        {
         "hovertemplate": "# Components=%{x}<br>Explained Variance=%{y}<extra></extra>",
         "legendgroup": "",
         "line": {
          "color": "#636efa"
         },
         "mode": "lines",
         "name": "",
         "orientation": "v",
         "showlegend": false,
         "stackgroup": "1",
         "type": "scatter",
         "x": [
          1,
          2,
          3,
          4,
          5,
          6,
          7
         ],
         "xaxis": "x",
         "y": [
          0.2589635582981828,
          0.4336178536979265,
          0.586203908075182,
          0.7324560489188822,
          0.8459817768152229,
          0.948823601524511,
          1.0000000000000002
         ],
         "yaxis": "y"
        }
       ],
       "layout": {
        "autosize": true,
        "legend": {
         "tracegroupgap": 0
        },
        "margin": {
         "t": 60
        },
        "template": {
         "data": {
          "bar": [
           {
            "error_x": {
             "color": "#2a3f5f"
            },
            "error_y": {
             "color": "#2a3f5f"
            },
            "marker": {
             "line": {
              "color": "#E5ECF6",
              "width": 0.5
             }
            },
            "type": "bar"
           }
          ],
          "barpolar": [
           {
            "marker": {
             "line": {
              "color": "#E5ECF6",
              "width": 0.5
             }
            },
            "type": "barpolar"
           }
          ],
          "carpet": [
           {
            "aaxis": {
             "endlinecolor": "#2a3f5f",
             "gridcolor": "white",
             "linecolor": "white",
             "minorgridcolor": "white",
             "startlinecolor": "#2a3f5f"
            },
            "baxis": {
             "endlinecolor": "#2a3f5f",
             "gridcolor": "white",
             "linecolor": "white",
             "minorgridcolor": "white",
             "startlinecolor": "#2a3f5f"
            },
            "type": "carpet"
           }
          ],
          "choropleth": [
           {
            "colorbar": {
             "outlinewidth": 0,
             "ticks": ""
            },
            "type": "choropleth"
           }
          ],
          "contour": [
           {
            "colorbar": {
             "outlinewidth": 0,
             "ticks": ""
            },
            "colorscale": [
             [
              0,
              "#0d0887"
             ],
             [
              0.1111111111111111,
              "#46039f"
             ],
             [
              0.2222222222222222,
              "#7201a8"
             ],
             [
              0.3333333333333333,
              "#9c179e"
             ],
             [
              0.4444444444444444,
              "#bd3786"
             ],
             [
              0.5555555555555556,
              "#d8576b"
             ],
             [
              0.6666666666666666,
              "#ed7953"
             ],
             [
              0.7777777777777778,
              "#fb9f3a"
             ],
             [
              0.8888888888888888,
              "#fdca26"
             ],
             [
              1,
              "#f0f921"
             ]
            ],
            "type": "contour"
           }
          ],
          "contourcarpet": [
           {
            "colorbar": {
             "outlinewidth": 0,
             "ticks": ""
            },
            "type": "contourcarpet"
           }
          ],
          "heatmap": [
           {
            "colorbar": {
             "outlinewidth": 0,
             "ticks": ""
            },
            "colorscale": [
             [
              0,
              "#0d0887"
             ],
             [
              0.1111111111111111,
              "#46039f"
             ],
             [
              0.2222222222222222,
              "#7201a8"
             ],
             [
              0.3333333333333333,
              "#9c179e"
             ],
             [
              0.4444444444444444,
              "#bd3786"
             ],
             [
              0.5555555555555556,
              "#d8576b"
             ],
             [
              0.6666666666666666,
              "#ed7953"
             ],
             [
              0.7777777777777778,
              "#fb9f3a"
             ],
             [
              0.8888888888888888,
              "#fdca26"
             ],
             [
              1,
              "#f0f921"
             ]
            ],
            "type": "heatmap"
           }
          ],
          "heatmapgl": [
           {
            "colorbar": {
             "outlinewidth": 0,
             "ticks": ""
            },
            "colorscale": [
             [
              0,
              "#0d0887"
             ],
             [
              0.1111111111111111,
              "#46039f"
             ],
             [
              0.2222222222222222,
              "#7201a8"
             ],
             [
              0.3333333333333333,
              "#9c179e"
             ],
             [
              0.4444444444444444,
              "#bd3786"
             ],
             [
              0.5555555555555556,
              "#d8576b"
             ],
             [
              0.6666666666666666,
              "#ed7953"
             ],
             [
              0.7777777777777778,
              "#fb9f3a"
             ],
             [
              0.8888888888888888,
              "#fdca26"
             ],
             [
              1,
              "#f0f921"
             ]
            ],
            "type": "heatmapgl"
           }
          ],
          "histogram": [
           {
            "marker": {
             "colorbar": {
              "outlinewidth": 0,
              "ticks": ""
             }
            },
            "type": "histogram"
           }
          ],
          "histogram2d": [
           {
            "colorbar": {
             "outlinewidth": 0,
             "ticks": ""
            },
            "colorscale": [
             [
              0,
              "#0d0887"
             ],
             [
              0.1111111111111111,
              "#46039f"
             ],
             [
              0.2222222222222222,
              "#7201a8"
             ],
             [
              0.3333333333333333,
              "#9c179e"
             ],
             [
              0.4444444444444444,
              "#bd3786"
             ],
             [
              0.5555555555555556,
              "#d8576b"
             ],
             [
              0.6666666666666666,
              "#ed7953"
             ],
             [
              0.7777777777777778,
              "#fb9f3a"
             ],
             [
              0.8888888888888888,
              "#fdca26"
             ],
             [
              1,
              "#f0f921"
             ]
            ],
            "type": "histogram2d"
           }
          ],
          "histogram2dcontour": [
           {
            "colorbar": {
             "outlinewidth": 0,
             "ticks": ""
            },
            "colorscale": [
             [
              0,
              "#0d0887"
             ],
             [
              0.1111111111111111,
              "#46039f"
             ],
             [
              0.2222222222222222,
              "#7201a8"
             ],
             [
              0.3333333333333333,
              "#9c179e"
             ],
             [
              0.4444444444444444,
              "#bd3786"
             ],
             [
              0.5555555555555556,
              "#d8576b"
             ],
             [
              0.6666666666666666,
              "#ed7953"
             ],
             [
              0.7777777777777778,
              "#fb9f3a"
             ],
             [
              0.8888888888888888,
              "#fdca26"
             ],
             [
              1,
              "#f0f921"
             ]
            ],
            "type": "histogram2dcontour"
           }
          ],
          "mesh3d": [
           {
            "colorbar": {
             "outlinewidth": 0,
             "ticks": ""
            },
            "type": "mesh3d"
           }
          ],
          "parcoords": [
           {
            "line": {
             "colorbar": {
              "outlinewidth": 0,
              "ticks": ""
             }
            },
            "type": "parcoords"
           }
          ],
          "pie": [
           {
            "automargin": true,
            "type": "pie"
           }
          ],
          "scatter": [
           {
            "marker": {
             "colorbar": {
              "outlinewidth": 0,
              "ticks": ""
             }
            },
            "type": "scatter"
           }
          ],
          "scatter3d": [
           {
            "line": {
             "colorbar": {
              "outlinewidth": 0,
              "ticks": ""
             }
            },
            "marker": {
             "colorbar": {
              "outlinewidth": 0,
              "ticks": ""
             }
            },
            "type": "scatter3d"
           }
          ],
          "scattercarpet": [
           {
            "marker": {
             "colorbar": {
              "outlinewidth": 0,
              "ticks": ""
             }
            },
            "type": "scattercarpet"
           }
          ],
          "scattergeo": [
           {
            "marker": {
             "colorbar": {
              "outlinewidth": 0,
              "ticks": ""
             }
            },
            "type": "scattergeo"
           }
          ],
          "scattergl": [
           {
            "marker": {
             "colorbar": {
              "outlinewidth": 0,
              "ticks": ""
             }
            },
            "type": "scattergl"
           }
          ],
          "scattermapbox": [
           {
            "marker": {
             "colorbar": {
              "outlinewidth": 0,
              "ticks": ""
             }
            },
            "type": "scattermapbox"
           }
          ],
          "scatterpolar": [
           {
            "marker": {
             "colorbar": {
              "outlinewidth": 0,
              "ticks": ""
             }
            },
            "type": "scatterpolar"
           }
          ],
          "scatterpolargl": [
           {
            "marker": {
             "colorbar": {
              "outlinewidth": 0,
              "ticks": ""
             }
            },
            "type": "scatterpolargl"
           }
          ],
          "scatterternary": [
           {
            "marker": {
             "colorbar": {
              "outlinewidth": 0,
              "ticks": ""
             }
            },
            "type": "scatterternary"
           }
          ],
          "surface": [
           {
            "colorbar": {
             "outlinewidth": 0,
             "ticks": ""
            },
            "colorscale": [
             [
              0,
              "#0d0887"
             ],
             [
              0.1111111111111111,
              "#46039f"
             ],
             [
              0.2222222222222222,
              "#7201a8"
             ],
             [
              0.3333333333333333,
              "#9c179e"
             ],
             [
              0.4444444444444444,
              "#bd3786"
             ],
             [
              0.5555555555555556,
              "#d8576b"
             ],
             [
              0.6666666666666666,
              "#ed7953"
             ],
             [
              0.7777777777777778,
              "#fb9f3a"
             ],
             [
              0.8888888888888888,
              "#fdca26"
             ],
             [
              1,
              "#f0f921"
             ]
            ],
            "type": "surface"
           }
          ],
          "table": [
           {
            "cells": {
             "fill": {
              "color": "#EBF0F8"
             },
             "line": {
              "color": "white"
             }
            },
            "header": {
             "fill": {
              "color": "#C8D4E3"
             },
             "line": {
              "color": "white"
             }
            },
            "type": "table"
           }
          ]
         },
         "layout": {
          "annotationdefaults": {
           "arrowcolor": "#2a3f5f",
           "arrowhead": 0,
           "arrowwidth": 1
          },
          "autotypenumbers": "strict",
          "coloraxis": {
           "colorbar": {
            "outlinewidth": 0,
            "ticks": ""
           }
          },
          "colorscale": {
           "diverging": [
            [
             0,
             "#8e0152"
            ],
            [
             0.1,
             "#c51b7d"
            ],
            [
             0.2,
             "#de77ae"
            ],
            [
             0.3,
             "#f1b6da"
            ],
            [
             0.4,
             "#fde0ef"
            ],
            [
             0.5,
             "#f7f7f7"
            ],
            [
             0.6,
             "#e6f5d0"
            ],
            [
             0.7,
             "#b8e186"
            ],
            [
             0.8,
             "#7fbc41"
            ],
            [
             0.9,
             "#4d9221"
            ],
            [
             1,
             "#276419"
            ]
           ],
           "sequential": [
            [
             0,
             "#0d0887"
            ],
            [
             0.1111111111111111,
             "#46039f"
            ],
            [
             0.2222222222222222,
             "#7201a8"
            ],
            [
             0.3333333333333333,
             "#9c179e"
            ],
            [
             0.4444444444444444,
             "#bd3786"
            ],
            [
             0.5555555555555556,
             "#d8576b"
            ],
            [
             0.6666666666666666,
             "#ed7953"
            ],
            [
             0.7777777777777778,
             "#fb9f3a"
            ],
            [
             0.8888888888888888,
             "#fdca26"
            ],
            [
             1,
             "#f0f921"
            ]
           ],
           "sequentialminus": [
            [
             0,
             "#0d0887"
            ],
            [
             0.1111111111111111,
             "#46039f"
            ],
            [
             0.2222222222222222,
             "#7201a8"
            ],
            [
             0.3333333333333333,
             "#9c179e"
            ],
            [
             0.4444444444444444,
             "#bd3786"
            ],
            [
             0.5555555555555556,
             "#d8576b"
            ],
            [
             0.6666666666666666,
             "#ed7953"
            ],
            [
             0.7777777777777778,
             "#fb9f3a"
            ],
            [
             0.8888888888888888,
             "#fdca26"
            ],
            [
             1,
             "#f0f921"
            ]
           ]
          },
          "colorway": [
           "#636efa",
           "#EF553B",
           "#00cc96",
           "#ab63fa",
           "#FFA15A",
           "#19d3f3",
           "#FF6692",
           "#B6E880",
           "#FF97FF",
           "#FECB52"
          ],
          "font": {
           "color": "#2a3f5f"
          },
          "geo": {
           "bgcolor": "white",
           "lakecolor": "white",
           "landcolor": "#E5ECF6",
           "showlakes": true,
           "showland": true,
           "subunitcolor": "white"
          },
          "hoverlabel": {
           "align": "left"
          },
          "hovermode": "closest",
          "mapbox": {
           "style": "light"
          },
          "paper_bgcolor": "white",
          "plot_bgcolor": "#E5ECF6",
          "polar": {
           "angularaxis": {
            "gridcolor": "white",
            "linecolor": "white",
            "ticks": ""
           },
           "bgcolor": "#E5ECF6",
           "radialaxis": {
            "gridcolor": "white",
            "linecolor": "white",
            "ticks": ""
           }
          },
          "scene": {
           "xaxis": {
            "backgroundcolor": "#E5ECF6",
            "gridcolor": "white",
            "gridwidth": 2,
            "linecolor": "white",
            "showbackground": true,
            "ticks": "",
            "zerolinecolor": "white"
           },
           "yaxis": {
            "backgroundcolor": "#E5ECF6",
            "gridcolor": "white",
            "gridwidth": 2,
            "linecolor": "white",
            "showbackground": true,
            "ticks": "",
            "zerolinecolor": "white"
           },
           "zaxis": {
            "backgroundcolor": "#E5ECF6",
            "gridcolor": "white",
            "gridwidth": 2,
            "linecolor": "white",
            "showbackground": true,
            "ticks": "",
            "zerolinecolor": "white"
           }
          },
          "shapedefaults": {
           "line": {
            "color": "#2a3f5f"
           }
          },
          "ternary": {
           "aaxis": {
            "gridcolor": "white",
            "linecolor": "white",
            "ticks": ""
           },
           "baxis": {
            "gridcolor": "white",
            "linecolor": "white",
            "ticks": ""
           },
           "bgcolor": "#E5ECF6",
           "caxis": {
            "gridcolor": "white",
            "linecolor": "white",
            "ticks": ""
           }
          },
          "title": {
           "x": 0.05
          },
          "xaxis": {
           "automargin": true,
           "gridcolor": "white",
           "linecolor": "white",
           "ticks": "",
           "title": {
            "standoff": 15
           },
           "zerolinecolor": "white",
           "zerolinewidth": 2
          },
          "yaxis": {
           "automargin": true,
           "gridcolor": "white",
           "linecolor": "white",
           "ticks": "",
           "title": {
            "standoff": 15
           },
           "zerolinecolor": "white",
           "zerolinewidth": 2
          }
         }
        },
        "xaxis": {
         "anchor": "y",
         "autorange": true,
         "domain": [
          0,
          1
         ],
         "range": [
          1,
          7
         ],
         "title": {
          "text": "# Components"
         },
         "type": "linear"
        },
        "yaxis": {
         "anchor": "x",
         "autorange": true,
         "domain": [
          0,
          1
         ],
         "range": [
          0,
          1.0526315789473686
         ],
         "title": {
          "text": "Explained Variance"
         },
         "type": "linear"
        }
       }
      },
      "image/png": "[encoded data removed]",
      "text/html": [
       "<div>                            <div id=\"e4e7699a-6175-4031-9a23-b41153d2fe6f\" class=\"plotly-graph-div\" style=\"height:525px; width:100%;\"></div>            <script type=\"text/javascript\">                require([\"plotly\"], function(Plotly) {                    window.PLOTLYENV=window.PLOTLYENV || {};                                    if (document.getElementById(\"e4e7699a-6175-4031-9a23-b41153d2fe6f\")) {                    Plotly.newPlot(                        \"e4e7699a-6175-4031-9a23-b41153d2fe6f\",                        [{\"hovertemplate\": \"# Components=%{x}<br>Explained Variance=%{y}<extra></extra>\", \"legendgroup\": \"\", \"line\": {\"color\": \"#636efa\"}, \"mode\": \"lines\", \"name\": \"\", \"orientation\": \"v\", \"showlegend\": false, \"stackgroup\": \"1\", \"type\": \"scatter\", \"x\": [1, 2, 3, 4, 5, 6, 7], \"xaxis\": \"x\", \"y\": [0.2589635582981828, 0.4336178536979265, 0.586203908075182, 0.7324560489188822, 0.8459817768152229, 0.948823601524511, 1.0000000000000002], \"yaxis\": \"y\"}],                        {\"legend\": {\"tracegroupgap\": 0}, \"margin\": {\"t\": 60}, \"template\": {\"data\": {\"bar\": [{\"error_x\": {\"color\": \"#2a3f5f\"}, \"error_y\": {\"color\": \"#2a3f5f\"}, \"marker\": {\"line\": {\"color\": \"#E5ECF6\", \"width\": 0.5}}, \"type\": \"bar\"}], \"barpolar\": [{\"marker\": {\"line\": {\"color\": \"#E5ECF6\", \"width\": 0.5}}, \"type\": \"barpolar\"}], \"carpet\": [{\"aaxis\": {\"endlinecolor\": \"#2a3f5f\", \"gridcolor\": \"white\", \"linecolor\": \"white\", \"minorgridcolor\": \"white\", \"startlinecolor\": \"#2a3f5f\"}, \"baxis\": {\"endlinecolor\": \"#2a3f5f\", \"gridcolor\": \"white\", \"linecolor\": \"white\", \"minorgridcolor\": \"white\", \"startlinecolor\": \"#2a3f5f\"}, \"type\": \"carpet\"}], \"choropleth\": [{\"colorbar\": {\"outlinewidth\": 0, \"ticks\": \"\"}, \"type\": \"choropleth\"}], \"contour\": [{\"colorbar\": {\"outlinewidth\": 0, \"ticks\": \"\"}, \"colorscale\": [[0.0, \"#0d0887\"], [0.1111111111111111, \"#46039f\"], [0.2222222222222222, \"#7201a8\"], [0.3333333333333333, \"#9c179e\"], [0.4444444444444444, \"#bd3786\"], [0.5555555555555556, \"#d8576b\"], [0.6666666666666666, \"#ed7953\"], [0.7777777777777778, \"#fb9f3a\"], [0.8888888888888888, \"#fdca26\"], [1.0, \"#f0f921\"]], \"type\": \"contour\"}], \"contourcarpet\": [{\"colorbar\": {\"outlinewidth\": 0, \"ticks\": \"\"}, \"type\": \"contourcarpet\"}], \"heatmap\": [{\"colorbar\": {\"outlinewidth\": 0, \"ticks\": \"\"}, \"colorscale\": [[0.0, \"#0d0887\"], [0.1111111111111111, \"#46039f\"], [0.2222222222222222, \"#7201a8\"], [0.3333333333333333, \"#9c179e\"], [0.4444444444444444, \"#bd3786\"], [0.5555555555555556, \"#d8576b\"], [0.6666666666666666, \"#ed7953\"], [0.7777777777777778, \"#fb9f3a\"], [0.8888888888888888, \"#fdca26\"], [1.0, \"#f0f921\"]], \"type\": \"heatmap\"}], \"heatmapgl\": [{\"colorbar\": {\"outlinewidth\": 0, \"ticks\": \"\"}, \"colorscale\": [[0.0, \"#0d0887\"], [0.1111111111111111, \"#46039f\"], [0.2222222222222222, \"#7201a8\"], [0.3333333333333333, \"#9c179e\"], [0.4444444444444444, \"#bd3786\"], [0.5555555555555556, \"#d8576b\"], [0.6666666666666666, \"#ed7953\"], [0.7777777777777778, \"#fb9f3a\"], [0.8888888888888888, \"#fdca26\"], [1.0, \"#f0f921\"]], \"type\": \"heatmapgl\"}], \"histogram\": [{\"marker\": {\"colorbar\": {\"outlinewidth\": 0, \"ticks\": \"\"}}, \"type\": \"histogram\"}], \"histogram2d\": [{\"colorbar\": {\"outlinewidth\": 0, \"ticks\": \"\"}, \"colorscale\": [[0.0, \"#0d0887\"], [0.1111111111111111, \"#46039f\"], [0.2222222222222222, \"#7201a8\"], [0.3333333333333333, \"#9c179e\"], [0.4444444444444444, \"#bd3786\"], [0.5555555555555556, \"#d8576b\"], [0.6666666666666666, \"#ed7953\"], [0.7777777777777778, \"#fb9f3a\"], [0.8888888888888888, \"#fdca26\"], [1.0, \"#f0f921\"]], \"type\": \"histogram2d\"}], \"histogram2dcontour\": [{\"colorbar\": {\"outlinewidth\": 0, \"ticks\": \"\"}, \"colorscale\": [[0.0, \"#0d0887\"], [0.1111111111111111, \"#46039f\"], [0.2222222222222222, \"#7201a8\"], [0.3333333333333333, \"#9c179e\"], [0.4444444444444444, \"#bd3786\"], [0.5555555555555556, \"#d8576b\"], [0.6666666666666666, \"#ed7953\"], [0.7777777777777778, \"#fb9f3a\"], [0.8888888888888888, \"#fdca26\"], [1.0, \"#f0f921\"]], \"type\": \"histogram2dcontour\"}], \"mesh3d\": [{\"colorbar\": {\"outlinewidth\": 0, \"ticks\": \"\"}, \"type\": \"mesh3d\"}], \"parcoords\": [{\"line\": {\"colorbar\": {\"outlinewidth\": 0, \"ticks\": \"\"}}, \"type\": \"parcoords\"}], \"pie\": [{\"automargin\": true, \"type\": \"pie\"}], \"scatter\": [{\"marker\": {\"colorbar\": {\"outlinewidth\": 0, \"ticks\": \"\"}}, \"type\": \"scatter\"}], \"scatter3d\": [{\"line\": {\"colorbar\": {\"outlinewidth\": 0, \"ticks\": \"\"}}, \"marker\": {\"colorbar\": {\"outlinewidth\": 0, \"ticks\": \"\"}}, \"type\": \"scatter3d\"}], \"scattercarpet\": [{\"marker\": {\"colorbar\": {\"outlinewidth\": 0, \"ticks\": \"\"}}, \"type\": \"scattercarpet\"}], \"scattergeo\": [{\"marker\": {\"colorbar\": {\"outlinewidth\": 0, \"ticks\": \"\"}}, \"type\": \"scattergeo\"}], \"scattergl\": [{\"marker\": {\"colorbar\": {\"outlinewidth\": 0, \"ticks\": \"\"}}, \"type\": \"scattergl\"}], \"scattermapbox\": [{\"marker\": {\"colorbar\": {\"outlinewidth\": 0, \"ticks\": \"\"}}, \"type\": \"scattermapbox\"}], \"scatterpolar\": [{\"marker\": {\"colorbar\": {\"outlinewidth\": 0, \"ticks\": \"\"}}, \"type\": \"scatterpolar\"}], \"scatterpolargl\": [{\"marker\": {\"colorbar\": {\"outlinewidth\": 0, \"ticks\": \"\"}}, \"type\": \"scatterpolargl\"}], \"scatterternary\": [{\"marker\": {\"colorbar\": {\"outlinewidth\": 0, \"ticks\": \"\"}}, \"type\": \"scatterternary\"}], \"surface\": [{\"colorbar\": {\"outlinewidth\": 0, \"ticks\": \"\"}, \"colorscale\": [[0.0, \"#0d0887\"], [0.1111111111111111, \"#46039f\"], [0.2222222222222222, \"#7201a8\"], [0.3333333333333333, \"#9c179e\"], [0.4444444444444444, \"#bd3786\"], [0.5555555555555556, \"#d8576b\"], [0.6666666666666666, \"#ed7953\"], [0.7777777777777778, \"#fb9f3a\"], [0.8888888888888888, \"#fdca26\"], [1.0, \"#f0f921\"]], \"type\": \"surface\"}], \"table\": [{\"cells\": {\"fill\": {\"color\": \"#EBF0F8\"}, \"line\": {\"color\": \"white\"}}, \"header\": {\"fill\": {\"color\": \"#C8D4E3\"}, \"line\": {\"color\": \"white\"}}, \"type\": \"table\"}]}, \"layout\": {\"annotationdefaults\": {\"arrowcolor\": \"#2a3f5f\", \"arrowhead\": 0, \"arrowwidth\": 1}, \"autotypenumbers\": \"strict\", \"coloraxis\": {\"colorbar\": {\"outlinewidth\": 0, \"ticks\": \"\"}}, \"colorscale\": {\"diverging\": [[0, \"#8e0152\"], [0.1, \"#c51b7d\"], [0.2, \"#de77ae\"], [0.3, \"#f1b6da\"], [0.4, \"#fde0ef\"], [0.5, \"#f7f7f7\"], [0.6, \"#e6f5d0\"], [0.7, \"#b8e186\"], [0.8, \"#7fbc41\"], [0.9, \"#4d9221\"], [1, \"#276419\"]], \"sequential\": [[0.0, \"#0d0887\"], [0.1111111111111111, \"#46039f\"], [0.2222222222222222, \"#7201a8\"], [0.3333333333333333, \"#9c179e\"], [0.4444444444444444, \"#bd3786\"], [0.5555555555555556, \"#d8576b\"], [0.6666666666666666, \"#ed7953\"], [0.7777777777777778, \"#fb9f3a\"], [0.8888888888888888, \"#fdca26\"], [1.0, \"#f0f921\"]], \"sequentialminus\": [[0.0, \"#0d0887\"], [0.1111111111111111, \"#46039f\"], [0.2222222222222222, \"#7201a8\"], [0.3333333333333333, \"#9c179e\"], [0.4444444444444444, \"#bd3786\"], [0.5555555555555556, \"#d8576b\"], [0.6666666666666666, \"#ed7953\"], [0.7777777777777778, \"#fb9f3a\"], [0.8888888888888888, \"#fdca26\"], [1.0, \"#f0f921\"]]}, \"colorway\": [\"#636efa\", \"#EF553B\", \"#00cc96\", \"#ab63fa\", \"#FFA15A\", \"#19d3f3\", \"#FF6692\", \"#B6E880\", \"#FF97FF\", \"#FECB52\"], \"font\": {\"color\": \"#2a3f5f\"}, \"geo\": {\"bgcolor\": \"white\", \"lakecolor\": \"white\", \"landcolor\": \"#E5ECF6\", \"showlakes\": true, \"showland\": true, \"subunitcolor\": \"white\"}, \"hoverlabel\": {\"align\": \"left\"}, \"hovermode\": \"closest\", \"mapbox\": {\"style\": \"light\"}, \"paper_bgcolor\": \"white\", \"plot_bgcolor\": \"#E5ECF6\", \"polar\": {\"angularaxis\": {\"gridcolor\": \"white\", \"linecolor\": \"white\", \"ticks\": \"\"}, \"bgcolor\": \"#E5ECF6\", \"radialaxis\": {\"gridcolor\": \"white\", \"linecolor\": \"white\", \"ticks\": \"\"}}, \"scene\": {\"xaxis\": {\"backgroundcolor\": \"#E5ECF6\", \"gridcolor\": \"white\", \"gridwidth\": 2, \"linecolor\": \"white\", \"showbackground\": true, \"ticks\": \"\", \"zerolinecolor\": \"white\"}, \"yaxis\": {\"backgroundcolor\": \"#E5ECF6\", \"gridcolor\": \"white\", \"gridwidth\": 2, \"linecolor\": \"white\", \"showbackground\": true, \"ticks\": \"\", \"zerolinecolor\": \"white\"}, \"zaxis\": {\"backgroundcolor\": \"#E5ECF6\", \"gridcolor\": \"white\", \"gridwidth\": 2, \"linecolor\": \"white\", \"showbackground\": true, \"ticks\": \"\", \"zerolinecolor\": \"white\"}}, \"shapedefaults\": {\"line\": {\"color\": \"#2a3f5f\"}}, \"ternary\": {\"aaxis\": {\"gridcolor\": \"white\", \"linecolor\": \"white\", \"ticks\": \"\"}, \"baxis\": {\"gridcolor\": \"white\", \"linecolor\": \"white\", \"ticks\": \"\"}, \"bgcolor\": \"#E5ECF6\", \"caxis\": {\"gridcolor\": \"white\", \"linecolor\": \"white\", \"ticks\": \"\"}}, \"title\": {\"x\": 0.05}, \"xaxis\": {\"automargin\": true, \"gridcolor\": \"white\", \"linecolor\": \"white\", \"ticks\": \"\", \"title\": {\"standoff\": 15}, \"zerolinecolor\": \"white\", \"zerolinewidth\": 2}, \"yaxis\": {\"automargin\": true, \"gridcolor\": \"white\", \"linecolor\": \"white\", \"ticks\": \"\", \"title\": {\"standoff\": 15}, \"zerolinecolor\": \"white\", \"zerolinewidth\": 2}}}, \"xaxis\": {\"anchor\": \"y\", \"domain\": [0.0, 1.0], \"title\": {\"text\": \"# Components\"}}, \"yaxis\": {\"anchor\": \"x\", \"domain\": [0.0, 1.0], \"title\": {\"text\": \"Explained Variance\"}}},                        {\"responsive\": true}                    ).then(function(){\n",
       "                            \n",
       "var gd = document.getElementById('e4e7699a-6175-4031-9a23-b41153d2fe6f');\n",
       "var x = new MutationObserver(function (mutations, observer) {{\n",
       "        var display = window.getComputedStyle(gd).display;\n",
       "        if (!display || display === 'none') {{\n",
       "            console.log([gd, 'removed!']);\n",
       "            Plotly.purge(gd);\n",
       "            observer.disconnect();\n",
       "        }}\n",
       "}});\n",
       "\n",
       "// Listen for the removal of the full notebook cells\n",
       "var notebookContainer = gd.closest('#notebook-container');\n",
       "if (notebookContainer) {{\n",
       "    x.observe(notebookContainer, {childList: true});\n",
       "}}\n",
       "\n",
       "// Listen for the clearing of the current output cell\n",
       "var outputEl = gd.closest('.output');\n",
       "if (outputEl) {{\n",
       "    x.observe(outputEl, {childList: true});\n",
       "}}\n",
       "\n",
       "                        })                };                });            </script>        </div>"
      ]
     },
     "metadata": {},
     "output_type": "display_data"
    }
   ],
   "source": [
    "pca = PCA()\n",
    "pca.fit(df_z)\n",
    "exp_var_cumul = np.cumsum(pca.explained_variance_ratio_)\n",
    "\n",
    "px.area(\n",
    "    x=range(1, exp_var_cumul.shape[0] + 1),\n",
    "    y=exp_var_cumul,\n",
    "    labels={\"x\": \"# Components\", \"y\": \"Explained Variance\"}\n",
    ")"
   ]
  },
  {
   "cell_type": "code",
   "execution_count": 155,
   "metadata": {},
   "outputs": [],
   "source": [
    "km = KMeans(n_clusters=3,\n",
    "            n_init=3)"
   ]
  },
  {
   "cell_type": "code",
   "execution_count": null,
   "metadata": {},
   "outputs": [],
   "source": []
  },
  {
   "cell_type": "code",
   "execution_count": 156,
   "metadata": {},
   "outputs": [],
   "source": [
    "y_km = km.fit_predict(components)"
   ]
  },
  {
   "cell_type": "code",
   "execution_count": 157,
   "metadata": {},
   "outputs": [],
   "source": [
    "def plot_clusters(X,y_res, plt_cluster_centers = False):\n",
    "    X_centroids = []\n",
    "    Y_centroids = []\n",
    "    plt.figure(figsize=(12,9))\n",
    "\n",
    "    for cluster in set(y_res):\n",
    "        x = X[y_res == cluster,0]\n",
    "        y = X[y_res == cluster,1]\n",
    "        X_centroids.append(np.mean(x))\n",
    "        Y_centroids.append(np.mean(y))\n",
    "\n",
    "        plt.scatter(x,\n",
    "                    y,\n",
    "                    s=25,\n",
    "                    marker='o',\n",
    "                    label=f'cluster {cluster}')\n",
    "\n",
    "    if plt_cluster_centers:\n",
    "        plt.scatter(X_centroids,\n",
    "                    Y_centroids,\n",
    "                    marker='*',\n",
    "                    c='red',\n",
    "                    s=250,\n",
    "                    label='centroids')\n",
    "    plt.legend()\n",
    "    plt.grid()\n",
    "    plt.show()"
   ]
  },
  {
   "cell_type": "code",
   "execution_count": 158,
   "metadata": {},
   "outputs": [
    {
     "data": {
      "image/png": "[encoded data removed]",
      "text/plain": [
       "<Figure size 864x648 with 1 Axes>"
      ]
     },
     "metadata": {
      "needs_background": "light"
     },
     "output_type": "display_data"
    }
   ],
   "source": [
    "plot_clusters(components, y_km, plt_cluster_centers=True)"
   ]
  },
  {
   "cell_type": "code",
   "execution_count": 170,
   "metadata": {},
   "outputs": [
    {
     "data": {
      "text/html": [
       "<div>\n",
       "<style scoped>\n",
       "    .dataframe tbody tr th:only-of-type {\n",
       "        vertical-align: middle;\n",
       "    }\n",
       "\n",
       "    .dataframe tbody tr th {\n",
       "        vertical-align: top;\n",
       "    }\n",
       "\n",
       "    .dataframe thead th {\n",
       "        text-align: right;\n",
       "    }\n",
       "</style>\n",
       "<table border=\"1\" class=\"dataframe\">\n",
       "  <thead>\n",
       "    <tr style=\"text-align: right;\">\n",
       "      <th></th>\n",
       "      <th>0</th>\n",
       "      <th>1</th>\n",
       "      <th>2</th>\n",
       "      <th>3</th>\n",
       "      <th>4</th>\n",
       "      <th>5</th>\n",
       "      <th>6</th>\n",
       "    </tr>\n",
       "  </thead>\n",
       "  <tbody>\n",
       "    <tr>\n",
       "      <th>0</th>\n",
       "      <td>0.154185</td>\n",
       "      <td>0.184312</td>\n",
       "      <td>0.132149</td>\n",
       "      <td>0.649738</td>\n",
       "      <td>1.127172</td>\n",
       "      <td>0.258591</td>\n",
       "      <td>0.408539</td>\n",
       "    </tr>\n",
       "    <tr>\n",
       "      <th>1</th>\n",
       "      <td>-0.726524</td>\n",
       "      <td>1.493070</td>\n",
       "      <td>0.132149</td>\n",
       "      <td>-1.198878</td>\n",
       "      <td>1.127172</td>\n",
       "      <td>-0.648298</td>\n",
       "      <td>-1.087435</td>\n",
       "    </tr>\n",
       "    <tr>\n",
       "      <th>2</th>\n",
       "      <td>-0.188366</td>\n",
       "      <td>-0.234490</td>\n",
       "      <td>-0.989614</td>\n",
       "      <td>-1.198878</td>\n",
       "      <td>-0.887176</td>\n",
       "      <td>-0.648298</td>\n",
       "      <td>1.530520</td>\n",
       "    </tr>\n",
       "    <tr>\n",
       "      <th>3</th>\n",
       "      <td>1.123798</td>\n",
       "      <td>0.603115</td>\n",
       "      <td>-0.989614</td>\n",
       "      <td>-1.198878</td>\n",
       "      <td>-0.887176</td>\n",
       "      <td>-0.648298</td>\n",
       "      <td>-0.339448</td>\n",
       "    </tr>\n",
       "    <tr>\n",
       "      <th>4</th>\n",
       "      <td>0.983479</td>\n",
       "      <td>0.864867</td>\n",
       "      <td>2.375675</td>\n",
       "      <td>0.742169</td>\n",
       "      <td>-0.887176</td>\n",
       "      <td>1.165479</td>\n",
       "      <td>1.904514</td>\n",
       "    </tr>\n",
       "    <tr>\n",
       "      <th>...</th>\n",
       "      <td>...</td>\n",
       "      <td>...</td>\n",
       "      <td>...</td>\n",
       "      <td>...</td>\n",
       "      <td>...</td>\n",
       "      <td>...</td>\n",
       "      <td>...</td>\n",
       "    </tr>\n",
       "    <tr>\n",
       "      <th>742</th>\n",
       "      <td>-0.357478</td>\n",
       "      <td>-0.339191</td>\n",
       "      <td>2.375675</td>\n",
       "      <td>-1.198878</td>\n",
       "      <td>-0.887176</td>\n",
       "      <td>0.258591</td>\n",
       "      <td>0.782533</td>\n",
       "    </tr>\n",
       "    <tr>\n",
       "      <th>743</th>\n",
       "      <td>0.164864</td>\n",
       "      <td>0.707816</td>\n",
       "      <td>0.132149</td>\n",
       "      <td>0.742169</td>\n",
       "      <td>1.127172</td>\n",
       "      <td>0.258591</td>\n",
       "      <td>0.782533</td>\n",
       "    </tr>\n",
       "    <tr>\n",
       "      <th>744</th>\n",
       "      <td>1.738064</td>\n",
       "      <td>0.393714</td>\n",
       "      <td>0.132149</td>\n",
       "      <td>0.557307</td>\n",
       "      <td>1.127172</td>\n",
       "      <td>1.165479</td>\n",
       "      <td>-1.461429</td>\n",
       "    </tr>\n",
       "    <tr>\n",
       "      <th>745</th>\n",
       "      <td>-0.343735</td>\n",
       "      <td>-0.286841</td>\n",
       "      <td>0.132149</td>\n",
       "      <td>-1.383740</td>\n",
       "      <td>-0.887176</td>\n",
       "      <td>-0.648298</td>\n",
       "      <td>1.156526</td>\n",
       "    </tr>\n",
       "    <tr>\n",
       "      <th>746</th>\n",
       "      <td>-0.218692</td>\n",
       "      <td>-1.281497</td>\n",
       "      <td>-0.989614</td>\n",
       "      <td>-1.198878</td>\n",
       "      <td>-0.887176</td>\n",
       "      <td>-0.648298</td>\n",
       "      <td>-0.339448</td>\n",
       "    </tr>\n",
       "  </tbody>\n",
       "</table>\n",
       "<p>747 rows × 7 columns</p>\n",
       "</div>"
      ],
      "text/plain": [
       "            0         1         2         3         4         5         6\n",
       "0    0.154185  0.184312  0.132149  0.649738  1.127172  0.258591  0.408539\n",
       "1   -0.726524  1.493070  0.132149 -1.198878  1.127172 -0.648298 -1.087435\n",
       "2   -0.188366 -0.234490 -0.989614 -1.198878 -0.887176 -0.648298  1.530520\n",
       "3    1.123798  0.603115 -0.989614 -1.198878 -0.887176 -0.648298 -0.339448\n",
       "4    0.983479  0.864867  2.375675  0.742169 -0.887176  1.165479  1.904514\n",
       "..        ...       ...       ...       ...       ...       ...       ...\n",
       "742 -0.357478 -0.339191  2.375675 -1.198878 -0.887176  0.258591  0.782533\n",
       "743  0.164864  0.707816  0.132149  0.742169  1.127172  0.258591  0.782533\n",
       "744  1.738064  0.393714  0.132149  0.557307  1.127172  1.165479 -1.461429\n",
       "745 -0.343735 -0.286841  0.132149 -1.383740 -0.887176 -0.648298  1.156526\n",
       "746 -0.218692 -1.281497 -0.989614 -1.198878 -0.887176 -0.648298 -0.339448\n",
       "\n",
       "[747 rows x 7 columns]"
      ]
     },
     "execution_count": 170,
     "metadata": {},
     "output_type": "execute_result"
    }
   ],
   "source": [
    "df_z"
   ]
  },
  {
   "cell_type": "code",
   "execution_count": null,
   "metadata": {},
   "outputs": [],
   "source": []
  },
  {
   "cell_type": "code",
   "execution_count": null,
   "metadata": {},
   "outputs": [],
   "source": []
  }
 ],
 "metadata": {
  "kernelspec": {
   "display_name": "Python 3",
   "language": "python",
   "name": "python3"
  },
  "language_info": {
   "codemirror_mode": {
    "name": "ipython",
    "version": 3
   },
   "file_extension": ".py",
   "mimetype": "text/x-python",
   "name": "python",
   "nbconvert_exporter": "python",
   "pygments_lexer": "ipython3",
   "version": "3.8.5"
  }
 },
 "nbformat": 4,
 "nbformat_minor": 4
}
